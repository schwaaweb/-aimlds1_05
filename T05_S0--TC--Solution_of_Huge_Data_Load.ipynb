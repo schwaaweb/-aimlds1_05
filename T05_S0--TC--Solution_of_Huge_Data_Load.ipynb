{
  "nbformat": 4,
  "nbformat_minor": 0,
  "metadata": {
    "colab": {
      "name": "Solution of Huge Data Load.ipynb",
      "version": "0.3.2",
      "provenance": [],
      "collapsed_sections": []
    },
    "kernelspec": {
      "name": "python3",
      "display_name": "Python 3"
    }
  },
  "cells": [
    {
      "cell_type": "markdown",
      "metadata": {
        "id": "view-in-github",
        "colab_type": "text"
      },
      "source": [
        "[View in Colaboratory](https://colab.research.google.com/github/schwaaweb/aimlds1_05/blob/master/T05_S0--TC--Solution_of_Huge_Data_Load.ipynb)"
      ]
    },
    {
      "metadata": {
        "id": "3HxImqkSqLXf",
        "colab_type": "text"
      },
      "cell_type": "markdown",
      "source": [
        "## Get the file into Colab.\n",
        "# Do this ONCE (Don't rerun)"
      ]
    },
    {
      "metadata": {
        "id": "Xt9dmKqlbO26",
        "colab_type": "code",
        "colab": {},
        "outputId": "f1a6b5b2-7a2b-4c6d-8522-20f7320be030"
      },
      "cell_type": "code",
      "source": [
        "!wget \"https://data.ny.gov/api/views/q4hy-kbtf/rows.csv?accessType=DOWNLOAD\" -nc -O traffic.csv"
      ],
      "execution_count": 0,
      "outputs": []
    },
    {
      "metadata": {
        "id": "zXTQbGxiqS8N",
        "colab_type": "text"
      },
      "cell_type": "markdown",
      "source": [
        "### Validate that the first download succeeded"
      ]
    },
    {
      "metadata": {
        "id": "4bJmqC_7beQk",
        "colab_type": "code",
        "colab": {}
      },
      "cell_type": "code",
      "source": [
        "import pandas as pd\n",
        "\n",
        "data = pd.read_csv('traffic.csv')"
      ],
      "execution_count": 0,
      "outputs": []
    },
    {
      "metadata": {
        "id": "uaSsDhRunA7y",
        "colab_type": "code",
        "colab": {
          "base_uri": "https://localhost:8080/",
          "height": 450
        },
        "outputId": "22e9716a-e047-49aa-d686-b22130f4b8f7"
      },
      "cell_type": "code",
      "source": [
        "print(data.columns)\n",
        "print(data.head(5))\n",
        "print(data.shape)"
      ],
      "execution_count": 6,
      "outputs": [
        {
          "output_type": "stream",
          "text": [
            "Index(['Violation Charged Code', 'Violation Description', 'Violation Year',\n",
            "       'Violation Month', 'Violation Day of Week', 'Age at Violation',\n",
            "       'Gender', 'State of License', 'Police Agency', 'Court', 'Source'],\n",
            "      dtype='object')\n",
            "  Violation Charged Code               Violation Description  Violation Year  \\\n",
            "0                  5091G                UNLICENSED GT 60DAYS            2015   \n",
            "1                    376                LIGHTING-VARIOUS VIO            2015   \n",
            "2                  1160C  IMPROPER LEFT TURN ON ONE-WAY RDWY            2015   \n",
            "3                  5091G                UNLICENSED GT 60DAYS            2015   \n",
            "4                  5091G                UNLICENSED GT 60DAYS            2015   \n",
            "\n",
            "   Violation Month Violation Day of Week  Age at Violation Gender  \\\n",
            "0                1              THURSDAY              55.0      M   \n",
            "1                1              THURSDAY              24.0      M   \n",
            "2                2                MONDAY              62.0      M   \n",
            "3                9              THURSDAY              33.0      F   \n",
            "4                5              SATURDAY              45.0      M   \n",
            "\n",
            "  State of License                  Police Agency                Court Source  \n",
            "0         NEW YORK                NYC POLICE DEPT     QUEENS SOUTH TVB    TVB  \n",
            "1         NEW YORK                NYC POLICE DEPT     QUEENS SOUTH TVB    TVB  \n",
            "2         NEW YORK                NYC POLICE DEPT  MANHATTAN SOUTH TVB    TVB  \n",
            "3         MICHIGAN  TRIBOROUGH BRIDGE TUNNEL AUTH     QUEENS SOUTH TVB    TVB  \n",
            "4          UNKNOWN                NYC POLICE DEPT   BROOKLYN SOUTH TVB    TVB  \n",
            "(14275009, 11)\n"
          ],
          "name": "stdout"
        }
      ]
    },
    {
      "metadata": {
        "id": "u6Vay-SMqcU-",
        "colab_type": "text"
      },
      "cell_type": "markdown",
      "source": [
        "### Data is good above\n",
        "\n",
        "### Lets install tools to upload it and download it from Drive"
      ]
    },
    {
      "metadata": {
        "id": "6fI2fHckl-py",
        "colab_type": "code",
        "colab": {}
      },
      "cell_type": "code",
      "source": [
        "!pip install -U -q PyDrive"
      ],
      "execution_count": 0,
      "outputs": []
    },
    {
      "metadata": {
        "id": "Kd6wInEInMC1",
        "colab_type": "code",
        "colab": {}
      },
      "cell_type": "code",
      "source": [
        "from pydrive.auth import GoogleAuth\n",
        "from pydrive.drive import GoogleDrive\n",
        "from google.colab import auth\n",
        "from oauth2client.client import GoogleCredentials\n",
        "\n",
        "# 1. Authenticate and create the PyDrive client.\n",
        "auth.authenticate_user()\n",
        "gauth = GoogleAuth()\n",
        "gauth.credentials = GoogleCredentials.get_application_default()\n",
        "drive = GoogleDrive(gauth)\n"
      ],
      "execution_count": 0,
      "outputs": []
    },
    {
      "metadata": {
        "id": "icL_kZDZqimk",
        "colab_type": "text"
      },
      "cell_type": "markdown",
      "source": [
        "### Upload the file I downloaded ONCE at the ***top***"
      ]
    },
    {
      "metadata": {
        "id": "RX-rnAs9nmAz",
        "colab_type": "code",
        "colab": {}
      },
      "cell_type": "code",
      "source": [
        "export = drive.CreateFile({'title':'Traffic NYC.csv'})\n",
        "# Read file and set it as a content of this instance.\n",
        "export.SetContentFile('traffic.csv')\n",
        "export.Upload() # Upload the file.\n"
      ],
      "execution_count": 0,
      "outputs": []
    },
    {
      "metadata": {
        "id": "Lv3EUxvko1BW",
        "colab_type": "code",
        "colab": {},
        "outputId": "23401c05-e0a7-4571-a171-52dcc3f838ab"
      },
      "cell_type": "code",
      "source": [
        "# Permanently capture the file id!\n",
        "\n",
        "print(export['id'])\n",
        "\n",
        "# The ID of my uploaded Google Drive csv file\n",
        "# 126ydEDAXxTCfZJ_lPAV24yos7F2pbj-o\n"
      ],
      "execution_count": 0,
      "outputs": []
    },
    {
      "metadata": {
        "id": "Lki3d0zbrPVh",
        "colab_type": "text"
      },
      "cell_type": "markdown",
      "source": [
        "## Download the file from Drive (in future sessions, do this many times as necessary)"
      ]
    },
    {
      "metadata": {
        "id": "8DDZ5A1ArNnB",
        "colab_type": "code",
        "colab": {}
      },
      "cell_type": "code",
      "source": [
        "#########\n",
        "# YOUR ID WILL BE DIFFERENT!\n",
        "#########\n",
        "download = drive.CreateFile({'id': '126ydEDAXxTCfZJ_lPAV24yos7F2pbj-o'})\n",
        "download.GetContentFile('catlove.csv') # Download file as 'catlove.csv'.\n",
        "\n",
        "###\n",
        "# Don't download the avove file as \"catlove.csv\"\n",
        "###"
      ],
      "execution_count": 0,
      "outputs": []
    },
    {
      "metadata": {
        "id": "l_ICXEj6rkrm",
        "colab_type": "text"
      },
      "cell_type": "markdown",
      "source": [
        "## Validate that we successfully downloaded catlove.csv"
      ]
    },
    {
      "metadata": {
        "id": "adoK-oFVpUg7",
        "colab_type": "code",
        "colab": {},
        "outputId": "02bbe2f0-1569-4ca1-f322-2ee369c97106"
      },
      "cell_type": "code",
      "source": [
        "catlove = pd.read_csv('catlove.csv')\n",
        "print(catlove.head(5))"
      ],
      "execution_count": 0,
      "outputs": []
    },
    {
      "metadata": {
        "id": "E82V8wjSrckS",
        "colab_type": "text"
      },
      "cell_type": "markdown",
      "source": [
        "## Validation that the upload/downloads are identical\n",
        "You will not do this in future sessions, you will only have downloaded catlove.csv"
      ]
    },
    {
      "metadata": {
        "id": "aCgKCgOepEgz",
        "colab_type": "code",
        "colab": {
          "base_uri": "https://localhost:8080/",
          "height": 260
        },
        "outputId": "bdb8a78b-99ec-4869-be03-4ced5c0b16cf"
      },
      "cell_type": "code",
      "source": [
        "!ls -al\n",
        "!md5sum catlove.csv\n",
        "!md5sum traffic.csv"
      ],
      "execution_count": 18,
      "outputs": [
        {
          "output_type": "stream",
          "text": [
            "total 3043456\r\n",
            "drwxr-xr-x 1 root root       4096 May  1 16:59 .\r\n",
            "drwxr-xr-x 1 root root       4096 May  1 15:23 ..\r\n",
            "drwx------ 4 root root       4096 May  1 15:33 .cache\r\n",
            "-rw-r--r-- 1 root root 1558223985 May  1 16:59 catlove.csv\r\n",
            "drwxr-xr-x 3 root root       4096 May  1 15:33 .config\r\n",
            "drwxr-xr-x 1 root root       4096 May  1 16:53 datalab\r\n",
            "drwxr-xr-x 4 root root       4096 May  1 15:23 .forever\r\n",
            "drwxr-xr-x 5 root root       4096 May  1 15:33 .ipython\r\n",
            "drwx------ 3 root root       4096 May  1 15:23 .local\r\n",
            "-rw------- 1 root root       1024 May  1 15:23 .rnd\r\n",
            "-rw-r--r-- 1 root root 1558223985 May  1 16:11 traffic.csv\n",
            "33e3f1c75296541233f1cd78f5ccee02  catlove.csv\n",
            "33e3f1c75296541233f1cd78f5ccee02  traffic.csv\n"
          ],
          "name": "stdout"
        }
      ]
    },
    {
      "metadata": {
        "id": "h_TtwQfetSZl",
        "colab_type": "text"
      },
      "cell_type": "markdown",
      "source": [
        "## Finding files you put in Drive beforehand:\n",
        "\n",
        "[PyDrive Docs](https://pythonhosted.org/PyDrive/filelist.html)"
      ]
    }
  ]
}