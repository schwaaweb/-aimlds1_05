{
 "cells": [
  {
   "cell_type": "markdown",
   "metadata": {
    "colab_type": "text",
    "ein.tags": "worksheet-0",
    "id": "view-in-github",
    "slideshow": {
     "slide_type": "-"
    }
   },
   "source": [
    "[View in Colaboratory](https://colab.research.google.com/github/schwaaweb/aimlds1_05/blob/master/W05_CCS_Coding_Challenge_3.ipynb)"
   ]
  },
  {
   "cell_type": "markdown",
   "metadata": {
    "colab_type": "text",
    "ein.tags": "worksheet-0",
    "id": "Vim6ATB8ADUI",
    "slideshow": {
     "slide_type": "-"
    }
   },
   "source": [
    "## Coding Challenge #3\n",
    "\n",
    "In this coding challenge, we will use Spearman's Rank to find the correlation between **categorical, non-linearly related and non-normally distributed variables**. You will gain exposure to 2 key concepts:\n",
    "\n",
    "1) Spearman's Rank Correlation\n",
    "\n",
    "2) Chi-Square tables (The Chi-Square method was covered in the \"Goodness Of Fit\" module. As a pre-requisite to this coding challenge, that module should be reviewed to understand the Chi-Square method)\n",
    "\n",
    "As a guideline:\n",
    "\n",
    "If the p-value is < 0.05 then you reject the null hypothesis and conclude that the variables are **correlated**\n",
    "\n",
    "If the p-value is > 0.05 then you accept the null hypothesis and conclude that the variables are **independent**\n",
    "\n",
    "When computing Spearman's Rank Correlation, you have to ensure the following:\n",
    "\n",
    "a) The variables/attributes are numeric and able to be bucketed into categories\n",
    "\n",
    "b) The variables are related non-lineraly\n",
    "\n",
    "c) The variables are non-normally distibuted\n",
    "\n",
    "\n",
    "Given this background on Spearman's Rank Correlation, there are 3 main objectives you need to accomplish:\n",
    "\n",
    "1) Construct a Scatter Plot of cyl versus am, gear and carb (i.e. 3 different scatter plots) to verify that the variables are related non-lineraly and and are not-normally distributed. *A visual examination of the data proves that cycl, am, gear and carb are numeric variables that can be placed in categories.*\n",
    "\n",
    "2) Compute the Spearman's Rank Correlation Coefficient\n",
    "\n",
    "3) Conduct the Chi-Square test to ascertain how the 'cyl' variable is related to am, gear and carb\n",
    "\n",
    "\n",
    "**Dataset to be used**: mtcars dataset that we have used in one of the previous sessions. The dataset is accessible via the following link:\n",
    "\n",
    "https://gist.github.com/seankross/a412dfbd88b3db70b74b\n",
    "\n",
    "\n",
    "\n",
    "\n"
   ]
  },
  {
   "cell_type": "markdown",
   "metadata": {
    "colab_type": "text",
    "ein.tags": "worksheet-0",
    "id": "JGcSQQrhBMe5",
    "slideshow": {
     "slide_type": "-"
    }
   },
   "source": [
    "### Spearman correlation!"
   ]
  },
  {
   "cell_type": "code",
   "execution_count": null,
   "metadata": {
    "autoscroll": false,
    "collapsed": false,
    "ein.hycell": false,
    "ein.tags": "worksheet-0",
    "slideshow": {
     "slide_type": "-"
    }
   },
   "outputs": [],
   "source": []
  },
  {
   "cell_type": "code",
   "execution_count": 1,
   "metadata": {
    "autoscroll": false,
    "colab": {
     "base_uri": "https://localhost:8080/",
     "height": 242
    },
    "colab_type": "code",
    "collapsed": false,
    "ein.hycell": false,
    "ein.tags": "worksheet-0",
    "id": "KIoFYSMIBQ2B",
    "outputId": "81728540-d889-4d77-c7a2-6bb00f75b089",
    "slideshow": {
     "slide_type": "-"
    }
   },
   "outputs": [
    {
     "name": "stdout",
     "output_type": "stream",
     "text": [
      "            car_name   mpg  cyl   disp   hp  drat     wt   qsec  vs  am  gear  \\\n",
      "0          Mazda RX4  21.0    6  160.0  110  3.90  2.620  16.46   0   1     4   \n",
      "1      Mazda RX4 Wag  21.0    6  160.0  110  3.90  2.875  17.02   0   1     4   \n",
      "2         Datsun 710  22.8    4  108.0   93  3.85  2.320  18.61   1   1     4   \n",
      "3     Hornet 4 Drive  21.4    6  258.0  110  3.08  3.215  19.44   1   0     3   \n",
      "4  Hornet Sportabout  18.7    8  360.0  175  3.15  3.440  17.02   0   0     3   \n",
      "\n",
      "   carb  \n",
      "0     4  \n",
      "1     4  \n",
      "2     1  \n",
      "3     1  \n",
      "4     2  \n"
     ]
    }
   ],
   "source": [
    "import numpy as np\n",
    "import pandas as pd\n",
    "import matplotlib.pyplot as plt\n",
    "import seaborn as sns\n",
    "\n",
    "# Import the spearmanr from scipy\n",
    "import scipy\n",
    "from scipy.stats import spearmanr\n",
    "\n",
    "cars_DataFrame = pd.read_csv('https://www.dropbox.com/s/itcg6srrzn5u3fj/mtcars.csv?raw=1')\n",
    "cars_DataFrame = cars_DataFrame.rename(columns = {'Unnamed: 0':'car_name'})\n",
    "\n",
    "print(cars_DataFrame.head())"
   ]
  },
  {
   "cell_type": "code",
   "execution_count": 6,
   "metadata": {
    "autoscroll": false,
    "colab": {
     "base_uri": "https://localhost:8080/",
     "height": 742
    },
    "colab_type": "code",
    "collapsed": false,
    "ein.hycell": false,
    "ein.tags": "worksheet-0",
    "id": "_ytD-MNUBpo5",
    "outputId": "1e5c61de-a46f-412d-f457-a9963eb96629",
    "slideshow": {
     "slide_type": "-"
    }
   },
   "outputs": [
    {
     "data": {
      "image/png": "[encoded data removed]",
      "text/plain": [
       "<matplotlib.figure.Figure at 0x1a20a12908>"
      ]
     },
     "metadata": {},
     "output_type": "display_data"
    }
   ],
   "source": [
    "###re_df = cars_DataFrame[['cyl', 'am', 'gear', 'carb']]\n",
    "re_df = cars_DataFrame[['am', 'gear', 'carb',]]\n",
    "sns.pairplot(re_df);\n"
   ]
  },
  {
   "cell_type": "code",
   "execution_count": 11,
   "metadata": {
    "autoscroll": false,
    "colab": {
     "base_uri": "https://localhost:8080/",
     "height": 242
    },
    "colab_type": "code",
    "collapsed": false,
    "ein.hycell": false,
    "ein.tags": "worksheet-0",
    "id": "mvKyZ10zCD4G",
    "outputId": "5bd6db51-d6ed-4f74-9925-9df39bf5ff27",
    "slideshow": {
     "slide_type": "-"
    }
   },
   "outputs": [
    {
     "name": "stdout",
     "output_type": "stream",
     "text": [
      "SpearmanrResult(correlation=-0.5220711818077188, pvalue=0.0021780464381859484)\n",
      "[[ 1.         -0.52260705]\n",
      " [-0.52260705  1.        ]]\n",
      "SpearmanrResult(correlation=-0.5643104747017164, pvalue=0.0007678208835711609)\n",
      "[[ 1.        -0.4926866]\n",
      " [-0.4926866  1.       ]]\n",
      "SpearmanrResult(correlation=0.580067978775226, pvalue=0.0005016643211749825)\n",
      "[[1.         0.52698829]\n",
      " [0.52698829 1.        ]]\n",
      "[[ 1.         -0.52260705 -0.4926866   0.52698829]\n",
      " [-0.52260705  1.          0.79405876  0.05753435]\n",
      " [-0.4926866   0.79405876  1.          0.27407284]\n",
      " [ 0.52698829  0.05753435  0.27407284  1.        ]]\n"
     ]
    }
   ],
   "source": [
    "car_cylinder = re_df['cyl']\n",
    "car_trans = re_df['am']\n",
    "car_gear = re_df['gear']\n",
    "car_carb = re_df['carb']\n",
    "\n",
    "results = spearmanr(car_cylinder, car_trans)\n",
    "print(results)\n",
    "print(np.corrcoef(car_cylinder,car_trans))\n",
    "results = spearmanr(car_cylinder, car_gear)\n",
    "print(results)\n",
    "print(np.corrcoef(car_cylinder,car_gear))\n",
    "results = spearmanr(car_cylinder, car_carb)\n",
    "print(results)\n",
    "print(np.corrcoef(car_cylinder,car_carb))\n",
    "print(np.corrcoef(car_cylinder,[car_trans,car_gear,car_carb]))"
   ]
  },
  {
   "cell_type": "code",
   "execution_count": 8,
   "metadata": {
    "autoscroll": false,
    "colab": {
     "base_uri": "https://localhost:8080/",
     "height": 208
    },
    "colab_type": "code",
    "collapsed": false,
    "ein.hycell": false,
    "ein.tags": "worksheet-0",
    "id": "kSl5wx7dDfNv",
    "outputId": "46660f97-5d5b-4049-dac2-2a7319fffd2a",
    "slideshow": {
     "slide_type": "-"
    }
   },
   "outputs": [
    {
     "name": "stdout",
     "output_type": "stream",
     "text": [
      "gear   3  4  5\n",
      "cyl           \n",
      "4      1  8  2\n",
      "6      2  4  1\n",
      "8     12  0  2\n",
      "18.03636363636364\n",
      "0.0012140660337851554\n",
      "4\n",
      "[[5.15625 4.125   1.71875]\n",
      " [3.28125 2.625   1.09375]\n",
      " [6.5625  5.25    2.1875 ]]\n"
     ]
    }
   ],
   "source": [
    "from scipy.stats import chi2_contingency\n",
    "\n",
    "crosstab_table = pd.crosstab(car_cylinder, car_trans)\n",
    "\n",
    "crosstab_table = pd.crosstab(car_cylinder,car_gear)\n",
    "print(crosstab_table)\n",
    "\n",
    "chi2, p, dof, expected = chi2_contingency(crosstab_table.values)\n",
    "print(chi2)\n",
    "print(p)\n",
    "print(dof)\n",
    "print(expected)"
   ]
  },
  {
   "cell_type": "code",
   "execution_count": 9,
   "metadata": {
    "autoscroll": false,
    "colab": {
     "base_uri": "https://localhost:8080/",
     "height": 208
    },
    "colab_type": "code",
    "collapsed": false,
    "ein.hycell": false,
    "ein.tags": "worksheet-0",
    "id": "FbtAr8GMFESU",
    "outputId": "f5c281de-2027-4a67-b0c2-a9ef256e944c",
    "slideshow": {
     "slide_type": "-"
    }
   },
   "outputs": [
    {
     "name": "stdout",
     "output_type": "stream",
     "text": [
      "am    0  1\n",
      "cyl       \n",
      "4     3  8\n",
      "6     4  3\n",
      "8    12  2\n",
      "8.740732951259268\n",
      "0.012646605046107276\n",
      "2\n",
      "[[6.53125 4.46875]\n",
      " [4.15625 2.84375]\n",
      " [8.3125  5.6875 ]]\n"
     ]
    }
   ],
   "source": [
    "crosstab_table = pd.crosstab(car_cylinder,car_trans)\n",
    "print(crosstab_table)\n",
    "\n",
    "chi2, p, dof, expected = chi2_contingency(crosstab_table.values)\n",
    "print(chi2)\n",
    "print(p)\n",
    "print(dof)\n",
    "print(expected)"
   ]
  },
  {
   "cell_type": "code",
   "execution_count": 10,
   "metadata": {
    "autoscroll": false,
    "colab": {
     "base_uri": "https://localhost:8080/",
     "height": 208
    },
    "colab_type": "code",
    "collapsed": false,
    "ein.hycell": false,
    "ein.tags": "worksheet-0",
    "id": "AAiufR1bInWL",
    "outputId": "468949e7-8286-4155-adee-3f5daac043f4",
    "slideshow": {
     "slide_type": "-"
    }
   },
   "outputs": [
    {
     "name": "stdout",
     "output_type": "stream",
     "text": [
      "carb  1  2  3  4  6  8\n",
      "cyl                   \n",
      "4     5  6  0  0  0  0\n",
      "6     2  0  0  4  1  0\n",
      "8     0  4  3  6  0  1\n",
      "24.38886827458256\n",
      "0.006632477762992059\n",
      "10\n",
      "[[2.40625 3.4375  1.03125 3.4375  0.34375 0.34375]\n",
      " [1.53125 2.1875  0.65625 2.1875  0.21875 0.21875]\n",
      " [3.0625  4.375   1.3125  4.375   0.4375  0.4375 ]]\n"
     ]
    }
   ],
   "source": [
    "crosstab_table = pd.crosstab(car_cylinder,car_carb)\n",
    "print(crosstab_table)\n",
    "\n",
    "chi2, p, dof, expected = chi2_contingency(crosstab_table.values)\n",
    "print(chi2)\n",
    "print(p)\n",
    "print(dof)\n",
    "print(expected)"
   ]
  },
  {
   "cell_type": "code",
   "execution_count": null,
   "metadata": {
    "autoscroll": false,
    "colab": null,
    "colab_type": "code",
    "collapsed": false,
    "ein.hycell": false,
    "ein.tags": "worksheet-0",
    "id": "ZdTBVfwRI6uz",
    "slideshow": {
     "slide_type": "-"
    }
   },
   "outputs": [],
   "source": []
  }
 ],
 "metadata": {
  "colab": {
   "collapsed_sections": null,
   "name": "Copy of Coding Challenge #3.ipynb",
   "provenance": null,
   "version": "0.3.2"
  },
  "kernelspec": {
   "display_name": "Python 3",
   "language": "python",
   "name": "python3"
  },
  "language_info": {
   "codemirror_mode": {
    "name": "ipython",
    "version": 3
   },
   "file_extension": ".py",
   "mimetype": "text/x-python",
   "name": "python",
   "nbconvert_exporter": "python",
   "pygments_lexer": "ipython3",
   "version": "3.6.4"
  },
  "name": "W05_CCS_Coding_Challenge_3.ipynb"
 },
 "nbformat": 4,
 "nbformat_minor": 2
}
