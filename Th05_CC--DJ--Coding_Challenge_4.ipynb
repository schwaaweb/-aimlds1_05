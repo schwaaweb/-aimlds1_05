{
  "nbformat": 4,
  "nbformat_minor": 0,
  "metadata": {
    "colab": {
      "name": "Coding Challenge #4.ipynb",
      "version": "0.3.2",
      "provenance": []
    },
    "kernelspec": {
      "name": "python3",
      "display_name": "Python 3"
    }
  },
  "cells": [
    {
      "cell_type": "markdown",
      "metadata": {
        "id": "view-in-github",
        "colab_type": "text"
      },
      "source": [
        "[View in Colaboratory](https://colab.research.google.com/github/schwaaweb/aimlds1_05/blob/master/Th05_CC--DJ--Coding_Challenge_4.ipynb)"
      ]
    },
    {
      "metadata": {
        "id": "Vim6ATB8ADUI",
        "colab_type": "text"
      },
      "cell_type": "markdown",
      "source": [
        "## Coding Challenge #4\n",
        "\n",
        "In this coding challenge, we will construct a bionomial distribution based on the concepts of Bernoulli trials.\n",
        "\n",
        "In a nutshell, a Bernoulli trial is an random experiment with 2 possible outcomes i.e. Success (Yes) or Failure (No). More details on the Bernoulli trial can be found on this website:\n",
        "\n",
        "https://en.wikipedia.org/wiki/Bernoulli_trial\n",
        "\n",
        "**Problem Statement**: Let's say the DCVC venture fund invests in 100 startups. Anywhere between 0 and 100 of the startups will succeed. \n",
        "\n",
        "**Ask?** Construct a biomial distribution of getting a given number of startup successes, given that the probability of a successful startup is p = 0.1\n",
        "\n",
        "\n",
        "We will leverage a step-by-step process to construct the bionomial distribution:\n",
        "\n",
        "**Step 1**: Write a function called conduct_binomial_trails\n",
        "\n",
        "The function takes in 2 arguments and returns the number of successes (i.e. return number_successful) out of n Bionomial trials, each of which has probability p of success. \n",
        "\n",
        "During each Bionomial trial, use the np.random.random() function, which returns a random number between zero and one and compare the *returned* random number to the propability of success. If the random number is less than the probability p of success, increment the \"number_successful\" variable by 1 during each *iteration* of the Bionimial Trial.\n",
        "\n",
        "**Step 2**: Set up a for loop with 10000 iterations to compute the number of successes per 100 investments using the the defined function and store the results returned from each call to the function in an array.  Each call to the defined function will pass in 2 arguments: *the number of trials n* - in this case 100 - and *the probability of success p* - in this case the probability of success 0.1\n",
        "\n",
        "\n",
        "**Step 3**: # Plot the histogram with the size of the array reprensenting the # of bin and label your axes accordingly\n",
        "\n",
        "Use: plt.hist(b_array, normed=True)\n",
        "\n",
        "In this case, b_array is the array you defined in \"Step 2\" aboe to store the number of successes from each call to the conduct_binomial_trails function\n",
        "\n",
        "Setting *normed to true* will esnure that the counts in the array are normalized to form a probability density\n",
        "\n",
        "\n",
        "\n",
        "\n"
      ]
    }
  ]
}