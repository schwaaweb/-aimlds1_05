{
 "cells": [
  {
   "cell_type": "markdown",
   "metadata": {
    "colab_type": "text",
    "id": "view-in-github"
   },
   "source": [
    "[View in Colaboratory](https://colab.research.google.com/github/schwaaweb/aimlds1_05/blob/master/T05_S1--NJ--saving_and_retrieving_files_from_GDrive.ipynb)"
   ]
  },
  {
   "cell_type": "markdown",
   "metadata": {
    "colab_type": "text",
    "id": "fYj4936uInT3"
   },
   "source": [
    "## Run once"
   ]
  },
  {
   "cell_type": "code",
   "execution_count": 0,
   "metadata": {
    "colab": {},
    "colab_type": "code",
    "id": "R-LkaJ_vBL0O"
   },
   "outputs": [],
   "source": [
    "!pip install -U -q PyDrive"
   ]
  },
  {
   "cell_type": "markdown",
   "metadata": {
    "colab_type": "text",
    "id": "kOPkr-6II_nB"
   },
   "source": [
    "## Use if you want to upload a file"
   ]
  },
  {
   "cell_type": "code",
   "execution_count": 0,
   "metadata": {
    "colab": {},
    "colab_type": "code",
    "id": "dbMNnBaqF0n1"
   },
   "outputs": [],
   "source": [
    "from pydrive.auth import GoogleAuth\n",
    "from pydrive.drive import GoogleDrive\n",
    "from google.colab import auth\n",
    "from oauth2client.client import GoogleCredentials\n",
    "\n",
    "# file: string (name of existing file)\n",
    "# title: string (name which you want to give to the file being uploaded to Drive)\n",
    "# returns the file_id of the uploaded file on Drive\n",
    "def upload_file_to_drive(file, title):\n",
    "  auth.authenticate_user()\n",
    "  gauth = GoogleAuth()\n",
    "  gauth.credentials = GoogleCredentials.get_application_default()\n",
    "  drive = GoogleDrive(gauth)\n",
    "\n",
    "  export = drive.CreateFile({'title':title})  \n",
    "  export.SetContentFile(file)\n",
    "  export.Upload()\n",
    "\n",
    "  return export['id']  "
   ]
  },
  {
   "cell_type": "markdown",
   "metadata": {
    "colab_type": "text",
    "id": "OtNFtsQFJFBq"
   },
   "source": [
    "## Use if you want to download a file"
   ]
  },
  {
   "cell_type": "code",
   "execution_count": 0,
   "metadata": {
    "colab": {},
    "colab_type": "code",
    "id": "903IVRanHA4b"
   },
   "outputs": [],
   "source": [
    "from pydrive.auth import GoogleAuth\n",
    "from pydrive.drive import GoogleDrive\n",
    "from google.colab import auth\n",
    "from oauth2client.client import GoogleCredentials\n",
    "\n",
    "# file_id: string (id of the file you want to download)\n",
    "# title: string (name which you want to give to the file being downloaded)\n",
    "def download_file_from_drive(file_id, title):\n",
    "  auth.authenticate_user()\n",
    "  gauth = GoogleAuth()\n",
    "  gauth.credentials = GoogleCredentials.get_application_default()\n",
    "  drive = GoogleDrive(gauth)\n",
    "  \n",
    "  download = drive.CreateFile({'id': file_id})\n",
    "  download.GetContentFile(title)"
   ]
  },
  {
   "cell_type": "markdown",
   "metadata": {
    "colab_type": "text",
    "id": "fOsD47IXJMqj"
   },
   "source": [
    "# Example Usage"
   ]
  },
  {
   "cell_type": "markdown",
   "metadata": {
    "colab_type": "text",
    "id": "-l-lLjPGJQpV"
   },
   "source": [
    "### get a file from internet"
   ]
  },
  {
   "cell_type": "code",
   "execution_count": 18,
   "metadata": {
    "colab": {
     "base_uri": "https://localhost:8080/",
     "height": 233
    },
    "colab_type": "code",
    "id": "VV9ZZzksEKMM",
    "outputId": "e91a23b8-a2a3-4056-d99b-59712e21862b"
   },
   "outputs": [
    {
     "name": "stdout",
     "output_type": "stream",
     "text": [
      "--2018-05-01 19:19:37--  https://data.ny.gov/api/views/34dd-6g2j/rows.csv?accessType=DOWNLOAD\n",
      "Resolving data.ny.gov (data.ny.gov)... 52.206.140.199\n",
      "Connecting to data.ny.gov (data.ny.gov)|52.206.140.199|:443... connected.\n",
      "HTTP request sent, awaiting response... 200 OK\n",
      "Length: unspecified [text/csv]\n",
      "Saving to: ‘afile.csv’\n",
      "\n",
      "afile.csv               [ <=>                ]  99.56K  --.-KB/s    in 0.03s   \n",
      "\n",
      "Last-modified header invalid -- time-stamp ignored.\n",
      "2018-05-01 19:19:37 (3.87 MB/s) - ‘afile.csv’ saved [101948]\n",
      "\n"
     ]
    }
   ],
   "source": [
    "!wget https://data.ny.gov/api/views/34dd-6g2j/rows.csv?accessType=DOWNLOAD -O afile.csv"
   ]
  },
  {
   "cell_type": "markdown",
   "metadata": {
    "colab_type": "text",
    "id": "ukdD_vZwJdXJ"
   },
   "source": [
    "### check its existence on your Colab VM"
   ]
  },
  {
   "cell_type": "code",
   "execution_count": 0,
   "metadata": {
    "colab": {},
    "colab_type": "code",
    "id": "YB-EDWooJlcI"
   },
   "outputs": [],
   "source": [
    "!ls -al"
   ]
  },
  {
   "cell_type": "markdown",
   "metadata": {
    "colab_type": "text",
    "id": "f2lWdV4nKneh"
   },
   "source": [
    "you should see `afile.csv` in the above list of files"
   ]
  },
  {
   "cell_type": "markdown",
   "metadata": {
    "colab_type": "text",
    "id": "woEWAT5uJxta"
   },
   "source": [
    "### upload a file on your Colab VM to your GDrive"
   ]
  },
  {
   "cell_type": "code",
   "execution_count": 21,
   "metadata": {
    "colab": {
     "base_uri": "https://localhost:8080/",
     "height": 35
    },
    "colab_type": "code",
    "id": "wAqMcNdMHuWK",
    "outputId": "513a0024-eb8e-4b8a-a013-8321082d7ad6"
   },
   "outputs": [
    {
     "data": {
      "text/plain": [
       "'1ea-wF1ia3PXeOhFm_-u-4RJ_iYurya3Q'"
      ]
     },
     "execution_count": 21,
     "metadata": {
      "tags": []
     },
     "output_type": "execute_result"
    }
   ],
   "source": [
    "file_id = upload_file_to_drive('afile.csv', 'afile_uploaded.csv')\n",
    "file_id"
   ]
  },
  {
   "cell_type": "markdown",
   "metadata": {
    "colab_type": "text",
    "id": "W2SPgTh6J4OI"
   },
   "source": [
    "\n",
    "\n",
    "1.   Go check `Recent` in your GDrive: https://drive.google.com/drive/my-drive -----> the file you uploaded should appear\n",
    "2.   **save the `file_id` somewhere (or don't lose it)** -----> when the colab session disconnects, we can use this file_id to fast access the file again on our Colab VM\n",
    "\n"
   ]
  },
  {
   "cell_type": "markdown",
   "metadata": {
    "colab_type": "text",
    "id": "peSUOtx3J3_5"
   },
   "source": [
    "### download a file from your GDrive to your Colab VM"
   ]
  },
  {
   "cell_type": "code",
   "execution_count": 0,
   "metadata": {
    "colab": {},
    "colab_type": "code",
    "id": "SpaOds0-H8aD"
   },
   "outputs": [],
   "source": [
    "download_file_from_drive(file_id, 'afile_downloaded.csv')"
   ]
  },
  {
   "cell_type": "code",
   "execution_count": 0,
   "metadata": {
    "colab": {},
    "colab_type": "code",
    "id": "RAMNcSKGIaMK"
   },
   "outputs": [],
   "source": [
    "!ls -al"
   ]
  },
  {
   "cell_type": "markdown",
   "metadata": {
    "colab_type": "text",
    "id": "WZ7XPsx9Ktl8"
   },
   "source": [
    "you should see `afile_downloaded.csv` in the above list of files"
   ]
  },
  {
   "cell_type": "markdown",
   "metadata": {
    "colab_type": "text",
    "id": "Jiqgdsz7L-6a"
   },
   "source": [
    "## Note: the above downloaded file should be available across all your current Colab sessions (so if you were working in another tab, you should be able to access this file)"
   ]
  }
 ],
 "metadata": {
  "colab": {
   "collapsed_sections": [],
   "name": "saving and retrieving files from GDrive.ipynb",
   "provenance": [],
   "version": "0.3.2"
  },
  "kernelspec": {
   "display_name": "Python 3",
   "language": "python",
   "name": "python3"
  },
  "language_info": {
   "codemirror_mode": {
    "name": "ipython",
    "version": 3
   },
   "file_extension": ".py",
   "mimetype": "text/x-python",
   "name": "python",
   "nbconvert_exporter": "python",
   "pygments_lexer": "ipython3",
   "version": "3.6.4"
  }
 },
 "nbformat": 4,
 "nbformat_minor": 1
}
