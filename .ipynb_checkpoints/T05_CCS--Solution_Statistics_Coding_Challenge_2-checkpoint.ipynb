{
 "cells": [
  {
   "cell_type": "markdown",
   "metadata": {
    "colab_type": "text",
    "id": "view-in-github"
   },
   "source": [
    "[View in Colaboratory](https://colab.research.google.com/github/schwaaweb/aimlds1_05/blob/master/T05_CCS--Solution_Statistics_Coding_Challenge_2.ipynb)"
   ]
  },
  {
   "cell_type": "markdown",
   "metadata": {
    "colab_type": "text",
    "id": "5Df5yvC99sYU"
   },
   "source": [
    "## Coding Challenge #2\n",
    "\n",
    "In this coding challenge, we are going to use the \"Index, Violent, Property, and Firearm Rates By County: Beginning 1990\" data set available from the Data.Gov website (https://catalog.data.gov/dataset?groups=local&organization_type=State+Government#topic=local_navigation).\n",
    "\n",
    "There are a few objectives you need to accomplish:\n",
    "\n",
    "1) Examine the data set for any missing values. The attributes of interest are 'Violent Count', 'Property Count', and 'Population'\n",
    "\n",
    "2) If there are any missing values, replace it with the median for that specific attribute within the corresponding County.\n",
    "\n",
    "For example if the 'Violent Count' attribute for the county of Albany has missing values, then replace it with the median of the 'Violent Count' for the county of Albany\n",
    "Note: If there are no missing values, you can use the data set as is\n",
    "\n",
    "3) Construct a box plot to surface the 25%, 50% and 75% percentiles of the 'Violent Count' by County from year 1990 to 2016 - just hone in on the following three counties: Bronx, New York and Queens\n",
    "\n",
    "4) Compute the Variance and Standard Deviation of the 'Violent Count' by County from year 1990 to 2016 - just hone in on the following three counties: Bronx, New York and Queens\n",
    "\n",
    "5) Contruct a Bee Swarm Plot to surface the spread of the 'Violent Count' by County from year 1990 to 2016 - just hone in on the following three counties: Bronx, New York and Queens\n",
    "\n",
    "6) Hone in on the data set for the Year 2016. How does the 'Violent Count' and the 'Population' vary together? Construct a scatter plot that plots the 'Violent Count' v/s the Total Population' for each of the 3 Counties. Does the Scatter Plot point to a positive covariance? Now, compute the Covariance.\n",
    "\n",
    "7) Hone in on the data set for the Year 2016. How does the 'Violent Count' and the 'Property Count' vary together? Construct a scatter plot that plots the 'Violent Count' v/s the Total Property Count' for each of the 3 Counties. Does the Scatter Plot point to a positive covariance? Now, compute the Covariance.\n",
    "\n",
    "8) Compute the Correlation Coefficient between the 2 variable i.e. 'Violent Count' and the 'Population' for the county of Bronx\n"
   ]
  },
  {
   "cell_type": "code",
   "execution_count": 21,
   "metadata": {
    "colab": {
     "base_uri": "https://localhost:8080/",
     "height": 463
    },
    "colab_type": "code",
    "id": "2wbgL7Z2-Qe4",
    "outputId": "38aff2dc-9a49-41b9-ea7f-1913c09c6db7"
   },
   "outputs": [
    {
     "name": "stdout",
     "output_type": "stream",
     "text": [
      "0\n",
      "0\n",
      "0\n"
     ]
    },
    {
     "name": "stderr",
     "output_type": "stream",
     "text": [
      "/usr/local/lib/python3.6/dist-packages/seaborn/categorical.py:454: FutureWarning: remove_na is deprecated and is a private function. Do not use.\n",
      "  box_data = remove_na(group_data)\n"
     ]
    },
    {
     "data": {
      "text/plain": [
       "Text(0,0.5,'Violent Count')"
      ]
     },
     "execution_count": 21,
     "metadata": {
      "tags": []
     },
     "output_type": "execute_result"
    },
    {
     "data": {
      "image/png": "[encoded data removed]",
      "text/plain": [
       "<matplotlib.figure.Figure at 0x7f8494974dd8>"
      ]
     },
     "metadata": {
      "tags": []
     },
     "output_type": "display_data"
    }
   ],
   "source": [
    "import numpy as np\n",
    "import pandas as pd\n",
    "import matplotlib.pyplot as plt\n",
    "import seaborn as sns\n",
    "\n",
    "#Read the Accidental  file into a data frame\n",
    "df = pd.read_csv('https://www.dropbox.com/s/hvwoh6za35otndc/Index__Violent__Property__and_Firearm_Rates_By_County__Beginning_1990.csv?raw=1')\n",
    "\n",
    "#The first ask is to treat missing values. Let's check whether the attributes of interest have missing values\n",
    "\n",
    "print(df['Population'].isnull().sum())\n",
    "\n",
    "print(df['Violent Count'].isnull().sum())\n",
    "\n",
    "print(df['Property Count'].isnull().sum())\n",
    "\n",
    "\n",
    "#Conslusion: None of the attributes of interest have missing values\n",
    "\n",
    "#Creating Boxplots\n",
    "\n",
    "#Retrieving the relevant columns i.e. County and Violent County for the following 3 Counties - Bronx, New York and Queens\n",
    "\n",
    "df_3Counties = df.loc[df['County'].isin(['Bronx', 'New York', 'Queens'])]\n",
    "\n",
    "#From the box plot, it is evident that the median of 'Violent Count' is highest in Bronx, followed by New York and then by Queens\n",
    "#All 3 Counties have experienced years where the 'Violent Count' has exceeded the norm resulting in outliers\n",
    "\n",
    "#New Haven has a observation that is a Outlier - it is easily decipherable from the Box Plot\n",
    "#As a rule of thumb, anything beyond 1.5 times the median is deemed as a outlier\n",
    "\n",
    "sns.boxplot(x='County', y='Violent Count', data=df_3Counties)\n",
    "\n",
    "plt.xlabel('County')\n",
    "\n",
    "plt.ylabel('Violent Count')\n"
   ]
  },
  {
   "cell_type": "code",
   "execution_count": 25,
   "metadata": {
    "colab": {
     "base_uri": "https://localhost:8080/",
     "height": 170
    },
    "colab_type": "code",
    "id": "XdpjQnsCKy7X",
    "outputId": "ee7bdcf3-2c26-45b8-b715-a168f8c8f3df"
   },
   "outputs": [
    {
     "name": "stdout",
     "output_type": "stream",
     "text": [
      " The 25th, 50th and 75th percentiles are\n",
      "[12519.  13817.  20103.5]\n",
      "\n",
      " The Variance of the Violent Count for the county of Bronx is:\n",
      "55461088.179487176\n",
      "\n",
      " The Standard Deviation of the Violent Count for the county of Bronx is:\n",
      "7447.220164563901\n",
      "\n"
     ]
    }
   ],
   "source": [
    "############# County #1 \n",
    "#Computing Summary for the County of \"Bronx\"\n",
    "\n",
    "df_Bronx = df[(df['County'] == 'Bronx')]\n",
    "\n",
    "print(\" The 25th, 50th and 75th percentiles are\")\n",
    "print(np.percentile(df_Bronx['Violent Count'],[25,50,75]))\n",
    "print()\n",
    "\n",
    "#Variance is the measure of the spread of the data\n",
    "print(\" The Variance of the Violent Count for the county of Bronx is:\")\n",
    "print(df_Bronx['Violent Count'].var())\n",
    "print()\n",
    "\n",
    "#Standard Deviation is the square root of the variance - more commonly used measure for spread\n",
    "print(\" The Standard Deviation of the Violent Count for the county of Bronx is:\")\n",
    "print(df_Bronx['Violent Count'].std())\n",
    "print()\n"
   ]
  },
  {
   "cell_type": "code",
   "execution_count": 26,
   "metadata": {
    "colab": {
     "base_uri": "https://localhost:8080/",
     "height": 170
    },
    "colab_type": "code",
    "id": "r8sRTvFRLoJx",
    "outputId": "aca6c06c-cec0-4e7a-c06f-b966e6f61db5"
   },
   "outputs": [
    {
     "name": "stdout",
     "output_type": "stream",
     "text": [
      " The 25th, 50th and 75th percentiles are\n",
      "[ 9061.5 12179.  21090. ]\n",
      "\n",
      " The Variance of the Violent Count for the county of Bronx is:\n",
      "124343759.10256411\n",
      "\n",
      " The Standard Deviation of the Violent Count for the county of Bronx is:\n",
      "11150.95328223395\n",
      "\n"
     ]
    }
   ],
   "source": [
    "############# County #2 \n",
    "#Computing Summary for the County of \"New York\"\n",
    "\n",
    "df_NY = df[(df['County'] == 'New York')]\n",
    "\n",
    "print(\" The 25th, 50th and 75th percentiles are\")\n",
    "print(np.percentile(df_NY['Violent Count'],[25,50,75]))\n",
    "print()\n",
    "\n",
    "#Variance is the measure of the spread of the data\n",
    "print(\" The Variance of the Violent Count for the county of Bronx is:\")\n",
    "print(df_NY['Violent Count'].var())\n",
    "print()\n",
    "\n",
    "#Standard Deviation is the square root of the variance - more commonly used measure for spread\n",
    "print(\" The Standard Deviation of the Violent Count for the county of Bronx is:\")\n",
    "print(df_NY['Violent Count'].std())\n",
    "print()"
   ]
  },
  {
   "cell_type": "code",
   "execution_count": 27,
   "metadata": {
    "colab": {
     "base_uri": "https://localhost:8080/",
     "height": 170
    },
    "colab_type": "code",
    "id": "RKAXRgLDL7KW",
    "outputId": "613aa1b9-fee1-4330-aab3-78c07e92f56f"
   },
   "outputs": [
    {
     "name": "stdout",
     "output_type": "stream",
     "text": [
      " The 25th, 50th and 75th percentiles are\n",
      "[ 9978. 11106. 18309.]\n",
      "\n",
      " The Variance of the Violent Count for the county of Bronx is:\n",
      "56938692.79487179\n",
      "\n",
      " The Standard Deviation of the Violent Count for the county of Bronx is:\n",
      "7545.773174093679\n",
      "\n"
     ]
    }
   ],
   "source": [
    "############# County #3 \n",
    "#Computing Summary for the City of \"Queens\"\n",
    "\n",
    "df_Queens = df[(df['County'] == 'Queens')]\n",
    "\n",
    "print(\" The 25th, 50th and 75th percentiles are\")\n",
    "print(np.percentile(df_Queens['Violent Count'],[25,50,75]))\n",
    "print()\n",
    "\n",
    "#Variance is the measure of the spread of the data\n",
    "print(\" The Variance of the Violent Count for the county of Bronx is:\")\n",
    "print(df_Queens['Violent Count'].var())\n",
    "print()\n",
    "\n",
    "#Standard Deviation is the square root of the variance - more commonly used measure for spread\n",
    "print(\" The Standard Deviation of the Violent Count for the county of Bronx is:\")\n",
    "print(df_Queens['Violent Count'].std())\n",
    "print()"
   ]
  },
  {
   "cell_type": "code",
   "execution_count": 28,
   "metadata": {
    "colab": {
     "base_uri": "https://localhost:8080/",
     "height": 361
    },
    "colab_type": "code",
    "id": "o-8N8JxFMgMw",
    "outputId": "02a21754-106c-4873-ba51-e3beef9f53b1"
   },
   "outputs": [
    {
     "data": {
      "image/png": "[encoded data removed]",
      "text/plain": [
       "<matplotlib.figure.Figure at 0x7f849489eeb8>"
      ]
     },
     "metadata": {
      "tags": []
     },
     "output_type": "display_data"
    }
   ],
   "source": [
    "#Construct a Bee Swarm plot to highlight the distibution of 'Violent Count' by each of the 3 counties\n",
    "#Point to Note: Bee Swarm plots show all the obervations under consideration (i.e. 'Violent Count' in this case) as compared to a Histogram. In a Histogram, the observations are hidden within Bins\n",
    "\n",
    "\n",
    "sns.swarmplot(x='County', y='Violent Count', data=df_3Counties)\n",
    "plt.xlabel('County')\n",
    "plt.ylabel('Violent Count')\n",
    "plt.show()\n",
    "\n",
    "#From the Bee Swarm plot, it is clear that the spread of the 'Violent Count' data is more in New York County as compared to the other 2 counties. Consequently the Variance/Standard Deviation which provides a\n",
    "#prespective into the spread of the data is higher for New York County."
   ]
  },
  {
   "cell_type": "code",
   "execution_count": 29,
   "metadata": {
    "colab": {
     "base_uri": "https://localhost:8080/",
     "height": 378
    },
    "colab_type": "code",
    "id": "-MVJDPRXN_7V",
    "outputId": "e5532f05-34f9-424c-ab54-dd3feda198bf"
   },
   "outputs": [
    {
     "data": {
      "text/plain": [
       "Text(0,0.5,'Violent Count')"
      ]
     },
     "execution_count": 29,
     "metadata": {
      "tags": []
     },
     "output_type": "execute_result"
    },
    {
     "data": {
      "image/png": "[encoded data removed]",
      "text/plain": [
       "<matplotlib.figure.Figure at 0x7f84948595f8>"
      ]
     },
     "metadata": {
      "tags": []
     },
     "output_type": "display_data"
    }
   ],
   "source": [
    "#Construct a scatter plot that plots the 'Violent Count' v/s the Total Population' for each of the 3 Counties. \n",
    "\n",
    "df_Bornx = df[(df['County'] == 'Bronx')]\n",
    "\n",
    "plt.plot(df_Bronx['Population']/1000, df_Bronx['Violent Count'], marker='.', linestyle='none')\n",
    "\n",
    "plt.xlabel('total population (thousands)')\n",
    "\n",
    "plt.ylabel('Violent Count')"
   ]
  },
  {
   "cell_type": "code",
   "execution_count": 33,
   "metadata": {
    "colab": {
     "base_uri": "https://localhost:8080/",
     "height": 51
    },
    "colab_type": "code",
    "id": "llFXzshQROue",
    "outputId": "aa022f48-6ac0-49c5-927d-7d3de6da06b8"
   },
   "outputs": [
    {
     "name": "stdout",
     "output_type": "stream",
     "text": [
      " The Covariance 'Population' and 'Violent Count' is:\n",
      "-563507502.0257947\n"
     ]
    }
   ],
   "source": [
    "#Covariance is the measure of how quantities vary together\n",
    "#In the case of Bronx, it is evident from the Scatter plot that the 'Violent Count' goes down as the population increases\n",
    "#Suggests a negative covariance\n",
    "#Let's validate that by computing the Covariance\n",
    "\n",
    "#To compute the Covariance, you use the 'cov' function\n",
    "\n",
    "#The 'cov' returns a 2 dimensional array where the entries [0,1] and [1,0] are the covariances. Entry [0,0] is the variance of the data in x, and entry [1,1] is the variance of the data in y\n",
    "#This 2 dimensional array is called the covariance matrix, since it structures the data as self- and covariance.\n",
    "\n",
    "covariance_matrix = np.cov(df_Bronx['Population'], df_Bronx['Violent Count'])\n",
    "#print(covariance_matrix)\n",
    "\n",
    "print(\" The Covariance 'Population' and 'Violent Count' for the county of Bronx is:\")\n",
    "print(covariance_matrix[0,1])\n",
    "\n"
   ]
  },
  {
   "cell_type": "code",
   "execution_count": 34,
   "metadata": {
    "colab": {
     "base_uri": "https://localhost:8080/",
     "height": 378
    },
    "colab_type": "code",
    "id": "-bxN0EjoVx96",
    "outputId": "6a88445f-3e23-4456-b0db-750be701082c"
   },
   "outputs": [
    {
     "data": {
      "text/plain": [
       "Text(0,0.5,'Violent Count')"
      ]
     },
     "execution_count": 34,
     "metadata": {
      "tags": []
     },
     "output_type": "execute_result"
    },
    {
     "data": {
      "image/png": "[encoded data removed]",
      "text/plain": [
       "<matplotlib.figure.Figure at 0x7f849484bac8>"
      ]
     },
     "metadata": {
      "tags": []
     },
     "output_type": "display_data"
    }
   ],
   "source": [
    "#Construct a scatter plot that plots the 'Violent Count' v/s the Total Population' for each of the 3 Counties. \n",
    "\n",
    "df_NY = df[(df['County'] == 'New York')]\n",
    "\n",
    "plt.plot(df_NY['Population']/1000, df_NY['Violent Count'], marker='.', linestyle='none')\n",
    "\n",
    "plt.xlabel('total population (thousands)')\n",
    "\n",
    "plt.ylabel('Violent Count')"
   ]
  },
  {
   "cell_type": "code",
   "execution_count": 35,
   "metadata": {
    "colab": {
     "base_uri": "https://localhost:8080/",
     "height": 51
    },
    "colab_type": "code",
    "id": "J-Ym7X61WExD",
    "outputId": "3b319a55-5892-4fad-fd9a-27ce45396a9a"
   },
   "outputs": [
    {
     "name": "stdout",
     "output_type": "stream",
     "text": [
      " The Covariance 'Population' and 'Violent Count' is:\n",
      "-570021519.4323975\n"
     ]
    }
   ],
   "source": [
    "#Covariance is the measure of how quantities vary together\n",
    "#In the case of New York, it is evident from the Scatter plot that the 'Violent Count' goes down as the population increases\n",
    "#Suggests a negative covariance\n",
    "#Let's validate that by computing the Covariance\n",
    "\n",
    "#To compute the Covariance, you use the 'cov' function\n",
    "\n",
    "#The 'cov' returns a 2 dimensional array where the entries [0,1] and [1,0] are the covariances. Entry [0,0] is the variance of the data in x, and entry [1,1] is the variance of the data in y\n",
    "#This 2 dimensional array is called the covariance matrix, since it structures the data as self- and covariance.\n",
    "\n",
    "covariance_matrix = np.cov(df_NY['Population'], df_NY['Violent Count'])\n",
    "#print(covariance_matrix)\n",
    "\n",
    "print(\" The Covariance 'Population' and 'Violent Count' for the county of NY is:\")\n",
    "print(covariance_matrix[0,1])\n"
   ]
  },
  {
   "cell_type": "code",
   "execution_count": 37,
   "metadata": {
    "colab": {
     "base_uri": "https://localhost:8080/",
     "height": 378
    },
    "colab_type": "code",
    "id": "6SauGfkCWPJY",
    "outputId": "49312d12-d7fe-4946-8a10-5a1499a2310b"
   },
   "outputs": [
    {
     "data": {
      "text/plain": [
       "Text(0,0.5,'Violent Count')"
      ]
     },
     "execution_count": 37,
     "metadata": {
      "tags": []
     },
     "output_type": "execute_result"
    },
    {
     "data": {
      "image/png": "[encoded data removed]",
      "text/plain": [
       "<matplotlib.figure.Figure at 0x7f8494781b70>"
      ]
     },
     "metadata": {
      "tags": []
     },
     "output_type": "display_data"
    }
   ],
   "source": [
    "#Construct a scatter plot that plots the 'Violent Count' v/s the Total Population' for each of the 3 Counties. \n",
    "\n",
    "df_Queens = df[(df['County'] == 'Queens')]\n",
    "\n",
    "plt.plot(df_Queens['Population']/1000, df_Queens['Violent Count'], marker='.', linestyle='none')\n",
    "\n",
    "plt.xlabel('total population (thousands)')\n",
    "\n",
    "plt.ylabel('Violent Count')"
   ]
  },
  {
   "cell_type": "code",
   "execution_count": 39,
   "metadata": {
    "colab": {
     "base_uri": "https://localhost:8080/",
     "height": 51
    },
    "colab_type": "code",
    "id": "iyNiUo68W1go",
    "outputId": "92b326ee-e862-4ad0-9db9-7aa67962425c"
   },
   "outputs": [
    {
     "name": "stdout",
     "output_type": "stream",
     "text": [
      " The Covariance 'Population' and 'Violent Count' for the county of Queens is:\n",
      "-973009766.6131793\n"
     ]
    }
   ],
   "source": [
    "#Covariance is the measure of how quantities vary together\n",
    "#In the case of New York, it is evident from the Scatter plot that the 'Violent Count' goes down as the population increases\n",
    "#Suggests a negative covariance\n",
    "#Let's validate that by computing the Covariance\n",
    "\n",
    "#To compute the Covariance, you use the 'cov' function\n",
    "\n",
    "#The 'cov' returns a 2 dimensional array where the entries [0,1] and [1,0] are the covariances. Entry [0,0] is the variance of the data in x, and entry [1,1] is the variance of the data in y\n",
    "#This 2 dimensional array is called the covariance matrix, since it structures the data as self- and covariance.\n",
    "\n",
    "covariance_matrix = np.cov(df_Queens['Population'], df_Queens['Violent Count'])\n",
    "#print(covariance_matrix)\n",
    "\n",
    "print(\" The Covariance 'Population' and 'Violent Count' for the county of Queens is:\")\n",
    "print(covariance_matrix[0,1])\n"
   ]
  },
  {
   "cell_type": "markdown",
   "metadata": {
    "colab_type": "text",
    "id": "RMf1aHt6Ywee"
   },
   "source": [
    "Hone in on the data set for the Year 2016. \n",
    "\n",
    "How does the 'Violent Count' and the 'Property Count' vary together? \n",
    "\n",
    "Construct a scatter plot that plots the 'Violent Count' v/s the Total Property Count' for each of the 3 Counties. \n",
    "\n",
    "Does the Scatter Plot point to a positive covariance? Now, compute the Covariance."
   ]
  },
  {
   "cell_type": "code",
   "execution_count": 40,
   "metadata": {
    "colab": {
     "base_uri": "https://localhost:8080/",
     "height": 378
    },
    "colab_type": "code",
    "id": "9FbDx0IeYOrT",
    "outputId": "8b4ac53e-be87-467b-c3ca-28fd27cfef61"
   },
   "outputs": [
    {
     "data": {
      "text/plain": [
       "Text(0,0.5,'Violent Count')"
      ]
     },
     "execution_count": 40,
     "metadata": {
      "tags": []
     },
     "output_type": "execute_result"
    },
    {
     "data": {
      "image/png": "[encoded data removed]",
      "text/plain": [
       "<matplotlib.figure.Figure at 0x7f849478b9b0>"
      ]
     },
     "metadata": {
      "tags": []
     },
     "output_type": "display_data"
    }
   ],
   "source": [
    "#Construct a scatter plot that plots the 'Violent Count' v/s the Total Population' for each of the 3 Counties. \n",
    "\n",
    "df_Bornx = df[(df['County'] == 'Bronx')]\n",
    "\n",
    "plt.plot(df_Bronx['Property Count'], df_Bronx['Violent Count'], marker='.', linestyle='none')\n",
    "\n",
    "plt.xlabel('Property Count')\n",
    "\n",
    "plt.ylabel('Violent Count')"
   ]
  },
  {
   "cell_type": "code",
   "execution_count": 42,
   "metadata": {
    "colab": {
     "base_uri": "https://localhost:8080/",
     "height": 85
    },
    "colab_type": "code",
    "id": "qNGAGdHDZC3j",
    "outputId": "7a5f3114-4d89-4964-d34e-01f8be862027"
   },
   "outputs": [
    {
     "name": "stdout",
     "output_type": "stream",
     "text": [
      "[[2.34426613e+08 1.12892313e+08]\n",
      " [1.12892313e+08 5.54610882e+07]]\n",
      " The Covariance 'Property Count' and 'Violent Count' for the county of Bronx is:\n",
      "112892312.52991454\n"
     ]
    }
   ],
   "source": [
    "#Covariance is the measure of how quantities vary together\n",
    "#In the case of Bronx, it is evident from the Scatter plot that the 'Violent Count' goes up as the 'Property Count' goes up\n",
    "#Suggests a positive covariance\n",
    "#Let's validate that by computing the Covariance\n",
    "\n",
    "#To compute the Covariance, you use the 'cov' function\n",
    "\n",
    "#The 'cov' returns a 2 dimensional array where the entries [0,1] and [1,0] are the covariances. Entry [0,0] is the variance of the data in x, and entry [1,1] is the variance of the data in y\n",
    "#This 2 dimensional array is called the covariance matrix, since it structures the data as self- and covariance.\n",
    "\n",
    "covariance_matrix = np.cov(df_Bronx['Property Count'], df_Bronx['Violent Count'])\n",
    "print(covariance_matrix)\n",
    "\n",
    "print(\" The Covariance 'Property Count' and 'Violent Count' for the county of Bronx is:\")\n",
    "print(covariance_matrix[0,1])"
   ]
  },
  {
   "cell_type": "code",
   "execution_count": 45,
   "metadata": {
    "colab": {
     "base_uri": "https://localhost:8080/",
     "height": 378
    },
    "colab_type": "code",
    "id": "9Z-j9J7eZ0xg",
    "outputId": "43bce032-26bc-4763-d9a2-66c5c3f44057"
   },
   "outputs": [
    {
     "data": {
      "text/plain": [
       "Text(0,0.5,'Violent Count')"
      ]
     },
     "execution_count": 45,
     "metadata": {
      "tags": []
     },
     "output_type": "execute_result"
    },
    {
     "data": {
      "image/png": "[encoded data removed]",
      "text/plain": [
       "<matplotlib.figure.Figure at 0x7f849464e8d0>"
      ]
     },
     "metadata": {
      "tags": []
     },
     "output_type": "display_data"
    }
   ],
   "source": [
    "#Construct a scatter plot that plots the 'Violent Count' v/s the Total Population' for each of the 3 Counties. \n",
    "\n",
    "df_NY = df[(df['County'] == 'New York')]\n",
    "\n",
    "plt.plot(df_NY['Property Count'], df_NY['Violent Count'], marker='.', linestyle='none')\n",
    "\n",
    "plt.xlabel('Property Count')\n",
    "\n",
    "plt.ylabel('Violent Count')"
   ]
  },
  {
   "cell_type": "code",
   "execution_count": 46,
   "metadata": {
    "colab": {
     "base_uri": "https://localhost:8080/",
     "height": 85
    },
    "colab_type": "code",
    "id": "Ml45RsWjaLAo",
    "outputId": "94a018f6-49fa-4c7c-8dab-be131e855dba"
   },
   "outputs": [
    {
     "name": "stdout",
     "output_type": "stream",
     "text": [
      "[[1.71599047e+09 4.60752394e+08]\n",
      " [4.60752394e+08 1.24343759e+08]]\n",
      " The Covariance 'Property Count' and 'Violent Count' for the county of New York is:\n",
      "460752394.4957265\n"
     ]
    }
   ],
   "source": [
    "#Covariance is the measure of how quantities vary together\n",
    "#In the case of Bronx, it is evident from the Scatter plot that the 'Violent Count' goes up as the 'Property Count' goes up\n",
    "#Suggests a positive covariance\n",
    "#Let's validate that by computing the Covariance\n",
    "\n",
    "#To compute the Covariance, you use the 'cov' function\n",
    "\n",
    "#The 'cov' returns a 2 dimensional array where the entries [0,1] and [1,0] are the covariances. Entry [0,0] is the variance of the data in x, and entry [1,1] is the variance of the data in y\n",
    "#This 2 dimensional array is called the covariance matrix, since it structures the data as self- and covariance.\n",
    "\n",
    "covariance_matrix = np.cov(df_NY['Property Count'], df_NY['Violent Count'])\n",
    "print(covariance_matrix)\n",
    "\n",
    "print(\" The Covariance 'Property Count' and 'Violent Count' for the county of New York is:\")\n",
    "print(covariance_matrix[0,1])"
   ]
  },
  {
   "cell_type": "code",
   "execution_count": 47,
   "metadata": {
    "colab": {
     "base_uri": "https://localhost:8080/",
     "height": 378
    },
    "colab_type": "code",
    "id": "7Ekb6sqmakzM",
    "outputId": "7a33308e-e4bc-4f4f-9f70-2ed13b8f4ab6"
   },
   "outputs": [
    {
     "data": {
      "text/plain": [
       "Text(0,0.5,'Violent Count')"
      ]
     },
     "execution_count": 47,
     "metadata": {
      "tags": []
     },
     "output_type": "execute_result"
    },
    {
     "data": {
      "image/png": "[encoded data removed]",
      "text/plain": [
       "<matplotlib.figure.Figure at 0x7f84945df4a8>"
      ]
     },
     "metadata": {
      "tags": []
     },
     "output_type": "display_data"
    }
   ],
   "source": [
    "#Construct a scatter plot that plots the 'Violent Count' v/s the Total Population' for each of the 3 Counties. \n",
    "\n",
    "df_Queens= df[(df['County'] == 'Queens')]\n",
    "\n",
    "plt.plot(df_Queens['Property Count'], df_Queens['Violent Count'], marker='.', linestyle='none')\n",
    "\n",
    "plt.xlabel('Property Count')\n",
    "\n",
    "plt.ylabel('Violent Count')"
   ]
  },
  {
   "cell_type": "code",
   "execution_count": 48,
   "metadata": {
    "colab": {
     "base_uri": "https://localhost:8080/",
     "height": 85
    },
    "colab_type": "code",
    "id": "gME85K0wa3Ke",
    "outputId": "56b00e96-a5d1-4623-baea-74ae003af904"
   },
   "outputs": [
    {
     "name": "stdout",
     "output_type": "stream",
     "text": [
      "[[1.25600025e+09 2.66045935e+08]\n",
      " [2.66045935e+08 5.69386928e+07]]\n",
      " The Covariance 'Property Count' and 'Violent Count' for the county of Queens is:\n",
      "266045935.05555558\n"
     ]
    }
   ],
   "source": [
    "#Covariance is the measure of how quantities vary together\n",
    "#In the case of Bronx, it is evident from the Scatter plot that the 'Violent Count' goes up as the 'Property Count' goes up\n",
    "#Suggests a positive covariance\n",
    "#Let's validate that by computing the Covariance\n",
    "\n",
    "#To compute the Covariance, you use the 'cov' function\n",
    "\n",
    "#The 'cov' returns a 2 dimensional array where the entries [0,1] and [1,0] are the covariances. Entry [0,0] is the variance of the data in x, and entry [1,1] is the variance of the data in y\n",
    "#This 2 dimensional array is called the covariance matrix, since it structures the data as self- and covariance.\n",
    "\n",
    "covariance_matrix = np.cov(df_Queens['Property Count'], df_Queens['Violent Count'])\n",
    "print(covariance_matrix)\n",
    "\n",
    "print(\" The Covariance 'Property Count' and 'Violent Count' for the county of Queens is:\")\n",
    "print(covariance_matrix[0,1])"
   ]
  },
  {
   "cell_type": "markdown",
   "metadata": {
    "colab_type": "text",
    "id": "rihgISlqbVjK"
   },
   "source": [
    "Compute the Correlation Coefficient between the 2 variable i.e. 'Violent Count' and the 'Population' for the county of Bronx"
   ]
  },
  {
   "cell_type": "code",
   "execution_count": 51,
   "metadata": {
    "colab": {
     "base_uri": "https://localhost:8080/",
     "height": 119
    },
    "colab_type": "code",
    "id": "W27ImiLjbsgY",
    "outputId": "38c1c093-2cca-4086-bd6f-d14e3fcde8c4"
   },
   "outputs": [
    {
     "name": "stdout",
     "output_type": "stream",
     "text": [
      "[[ 1.         -0.80271833]\n",
      " [-0.80271833  1.        ]]\n",
      "\n",
      " The Correlation Coefficient:\n",
      "-0.802718328253374\n",
      "\n"
     ]
    }
   ],
   "source": [
    "#The Correlation Co is computed using the np.corrcoef() function\n",
    "  \n",
    "#Like the np.cov(), it takes two arrays as arguments and returns a 2 dimensional array\n",
    "\n",
    "# Entries [0,0] and [1,1] are equal to 1 since there is a storng positive correlation between the variable and itself\n",
    "\n",
    "# The value of interest is entry [0,1]\n",
    "\n",
    "\n",
    "correlation_coeff_bronx = np.corrcoef(df_Bronx['Population'], df_Bronx['Violent Count'])\n",
    "print(correlation_coeff_bronx)\n",
    "print()\n",
    "\n",
    "print(\" The Correlation Coefficient:\")\n",
    "print(correlation_coeff_bronx[0,1])\n",
    "print()\n",
    "\n",
    "#There seems to be a strong negative correlation between 'Population' and 'Violent Count'\n",
    "\n",
    "\n",
    "\n"
   ]
  },
  {
   "cell_type": "markdown",
   "metadata": {
    "colab_type": "text",
    "id": "6lxgx-yZenet"
   },
   "source": [
    "Cheat Sheet on Strength of Correlations: https://www.dropbox.com/s/eqq5i5msgvwwazf/Correlation%20Strenghts.JPG?raw=1"
   ]
  }
 ],
 "metadata": {
  "colab": {
   "name": "Solution - Statistics Coding Challenge # 2.ipynb",
   "provenance": [],
   "version": "0.3.2"
  },
  "kernelspec": {
   "display_name": "Python 3",
   "language": "python",
   "name": "python3"
  },
  "language_info": {
   "codemirror_mode": {
    "name": "ipython",
    "version": 3
   },
   "file_extension": ".py",
   "mimetype": "text/x-python",
   "name": "python",
   "nbconvert_exporter": "python",
   "pygments_lexer": "ipython3",
   "version": "3.6.4"
  }
 },
 "nbformat": 4,
 "nbformat_minor": 1
}
