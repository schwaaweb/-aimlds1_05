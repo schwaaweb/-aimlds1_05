{
 "cells": [
  {
   "cell_type": "markdown",
   "metadata": {
    "colab_type": "text",
    "id": "view-in-github"
   },
   "source": [
    "[Video Explanation for this Goolge Drive Save Solution](https://youtu.be/iYoa3A4gRUw)\n",
    "\n",
    "[View in Colaboratory](https://colab.research.google.com/github/schwaaweb/aimlds1_05/blob/master/T05_S0--TC--Solution_of_Huge_Data_Load.ipynb)"
   ]
  },
  {
   "cell_type": "markdown",
   "metadata": {
    "colab_type": "text",
    "id": "3HxImqkSqLXf"
   },
   "source": [
    "## Get the file into Colab.\n",
    "# Do this ONCE (Don't rerun)"
   ]
  },
  {
   "cell_type": "code",
   "execution_count": 0,
   "metadata": {
    "colab": {},
    "colab_type": "code",
    "id": "Xt9dmKqlbO26",
    "outputId": "f1a6b5b2-7a2b-4c6d-8522-20f7320be030"
   },
   "outputs": [],
   "source": [
    "!wget \"https://data.ny.gov/api/views/q4hy-kbtf/rows.csv?accessType=DOWNLOAD\" -nc -O traffic.csv"
   ]
  },
  {
   "cell_type": "markdown",
   "metadata": {
    "colab_type": "text",
    "id": "zXTQbGxiqS8N"
   },
   "source": [
    "### Validate that the first download succeeded"
   ]
  },
  {
   "cell_type": "code",
   "execution_count": 0,
   "metadata": {
    "colab": {},
    "colab_type": "code",
    "id": "4bJmqC_7beQk"
   },
   "outputs": [],
   "source": [
    "import pandas as pd\n",
    "\n",
    "data = pd.read_csv('traffic.csv')"
   ]
  },
  {
   "cell_type": "code",
   "execution_count": 6,
   "metadata": {
    "colab": {
     "base_uri": "https://localhost:8080/",
     "height": 450
    },
    "colab_type": "code",
    "id": "uaSsDhRunA7y",
    "outputId": "22e9716a-e047-49aa-d686-b22130f4b8f7"
   },
   "outputs": [
    {
     "name": "stdout",
     "output_type": "stream",
     "text": [
      "Index(['Violation Charged Code', 'Violation Description', 'Violation Year',\n",
      "       'Violation Month', 'Violation Day of Week', 'Age at Violation',\n",
      "       'Gender', 'State of License', 'Police Agency', 'Court', 'Source'],\n",
      "      dtype='object')\n",
      "  Violation Charged Code               Violation Description  Violation Year  \\\n",
      "0                  5091G                UNLICENSED GT 60DAYS            2015   \n",
      "1                    376                LIGHTING-VARIOUS VIO            2015   \n",
      "2                  1160C  IMPROPER LEFT TURN ON ONE-WAY RDWY            2015   \n",
      "3                  5091G                UNLICENSED GT 60DAYS            2015   \n",
      "4                  5091G                UNLICENSED GT 60DAYS            2015   \n",
      "\n",
      "   Violation Month Violation Day of Week  Age at Violation Gender  \\\n",
      "0                1              THURSDAY              55.0      M   \n",
      "1                1              THURSDAY              24.0      M   \n",
      "2                2                MONDAY              62.0      M   \n",
      "3                9              THURSDAY              33.0      F   \n",
      "4                5              SATURDAY              45.0      M   \n",
      "\n",
      "  State of License                  Police Agency                Court Source  \n",
      "0         NEW YORK                NYC POLICE DEPT     QUEENS SOUTH TVB    TVB  \n",
      "1         NEW YORK                NYC POLICE DEPT     QUEENS SOUTH TVB    TVB  \n",
      "2         NEW YORK                NYC POLICE DEPT  MANHATTAN SOUTH TVB    TVB  \n",
      "3         MICHIGAN  TRIBOROUGH BRIDGE TUNNEL AUTH     QUEENS SOUTH TVB    TVB  \n",
      "4          UNKNOWN                NYC POLICE DEPT   BROOKLYN SOUTH TVB    TVB  \n",
      "(14275009, 11)\n"
     ]
    }
   ],
   "source": [
    "print(data.columns)\n",
    "print(data.head(5))\n",
    "print(data.shape)"
   ]
  },
  {
   "cell_type": "markdown",
   "metadata": {
    "colab_type": "text",
    "id": "u6Vay-SMqcU-"
   },
   "source": [
    "### Data is good above\n",
    "\n",
    "### Lets install tools to upload it and download it from Drive"
   ]
  },
  {
   "cell_type": "code",
   "execution_count": 0,
   "metadata": {
    "colab": {},
    "colab_type": "code",
    "id": "6fI2fHckl-py"
   },
   "outputs": [],
   "source": [
    "!pip install -U -q PyDrive"
   ]
  },
  {
   "cell_type": "code",
   "execution_count": 0,
   "metadata": {
    "colab": {},
    "colab_type": "code",
    "id": "Kd6wInEInMC1"
   },
   "outputs": [],
   "source": [
    "from pydrive.auth import GoogleAuth\n",
    "from pydrive.drive import GoogleDrive\n",
    "from google.colab import auth\n",
    "from oauth2client.client import GoogleCredentials\n",
    "\n",
    "# 1. Authenticate and create the PyDrive client.\n",
    "auth.authenticate_user()\n",
    "gauth = GoogleAuth()\n",
    "gauth.credentials = GoogleCredentials.get_application_default()\n",
    "drive = GoogleDrive(gauth)\n"
   ]
  },
  {
   "cell_type": "markdown",
   "metadata": {
    "colab_type": "text",
    "id": "icL_kZDZqimk"
   },
   "source": [
    "### Upload the file I downloaded ONCE at the ***top***"
   ]
  },
  {
   "cell_type": "code",
   "execution_count": 0,
   "metadata": {
    "colab": {},
    "colab_type": "code",
    "id": "RX-rnAs9nmAz"
   },
   "outputs": [],
   "source": [
    "export = drive.CreateFile({'title':'Traffic NYC.csv'})\n",
    "# Read file and set it as a content of this instance.\n",
    "export.SetContentFile('traffic.csv')\n",
    "export.Upload() # Upload the file.\n"
   ]
  },
  {
   "cell_type": "code",
   "execution_count": 0,
   "metadata": {
    "colab": {},
    "colab_type": "code",
    "id": "Lv3EUxvko1BW",
    "outputId": "23401c05-e0a7-4571-a171-52dcc3f838ab"
   },
   "outputs": [],
   "source": [
    "# Permanently capture the file id!\n",
    "\n",
    "print(export['id'])\n",
    "\n",
    "# The ID of my uploaded Google Drive csv file\n",
    "# 126ydEDAXxTCfZJ_lPAV24yos7F2pbj-o\n"
   ]
  },
  {
   "cell_type": "markdown",
   "metadata": {
    "colab_type": "text",
    "id": "Lki3d0zbrPVh"
   },
   "source": [
    "## Download the file from Drive (in future sessions, do this many times as necessary)"
   ]
  },
  {
   "cell_type": "code",
   "execution_count": 0,
   "metadata": {
    "colab": {},
    "colab_type": "code",
    "id": "8DDZ5A1ArNnB"
   },
   "outputs": [],
   "source": [
    "#########\n",
    "# YOUR ID WILL BE DIFFERENT!\n",
    "#########\n",
    "download = drive.CreateFile({'id': '126ydEDAXxTCfZJ_lPAV24yos7F2pbj-o'})\n",
    "download.GetContentFile('catlove.csv') # Download file as 'catlove.csv'.\n",
    "\n",
    "###\n",
    "# Don't download the avove file as \"catlove.csv\"\n",
    "###"
   ]
  },
  {
   "cell_type": "markdown",
   "metadata": {
    "colab_type": "text",
    "id": "l_ICXEj6rkrm"
   },
   "source": [
    "## Validate that we successfully downloaded catlove.csv"
   ]
  },
  {
   "cell_type": "code",
   "execution_count": 0,
   "metadata": {
    "colab": {},
    "colab_type": "code",
    "id": "adoK-oFVpUg7",
    "outputId": "02bbe2f0-1569-4ca1-f322-2ee369c97106"
   },
   "outputs": [],
   "source": [
    "catlove = pd.read_csv('catlove.csv')\n",
    "print(catlove.head(5))"
   ]
  },
  {
   "cell_type": "markdown",
   "metadata": {
    "colab_type": "text",
    "id": "E82V8wjSrckS"
   },
   "source": [
    "## Validation that the upload/downloads are identical\n",
    "You will not do this in future sessions, you will only have downloaded catlove.csv"
   ]
  },
  {
   "cell_type": "code",
   "execution_count": 18,
   "metadata": {
    "colab": {
     "base_uri": "https://localhost:8080/",
     "height": 260
    },
    "colab_type": "code",
    "id": "aCgKCgOepEgz",
    "outputId": "bdb8a78b-99ec-4869-be03-4ced5c0b16cf"
   },
   "outputs": [
    {
     "name": "stdout",
     "output_type": "stream",
     "text": [
      "total 3043456\r\n",
      "drwxr-xr-x 1 root root       4096 May  1 16:59 .\r\n",
      "drwxr-xr-x 1 root root       4096 May  1 15:23 ..\r\n",
      "drwx------ 4 root root       4096 May  1 15:33 .cache\r\n",
      "-rw-r--r-- 1 root root 1558223985 May  1 16:59 catlove.csv\r\n",
      "drwxr-xr-x 3 root root       4096 May  1 15:33 .config\r\n",
      "drwxr-xr-x 1 root root       4096 May  1 16:53 datalab\r\n",
      "drwxr-xr-x 4 root root       4096 May  1 15:23 .forever\r\n",
      "drwxr-xr-x 5 root root       4096 May  1 15:33 .ipython\r\n",
      "drwx------ 3 root root       4096 May  1 15:23 .local\r\n",
      "-rw------- 1 root root       1024 May  1 15:23 .rnd\r\n",
      "-rw-r--r-- 1 root root 1558223985 May  1 16:11 traffic.csv\n",
      "33e3f1c75296541233f1cd78f5ccee02  catlove.csv\n",
      "33e3f1c75296541233f1cd78f5ccee02  traffic.csv\n"
     ]
    }
   ],
   "source": [
    "!ls -al\n",
    "!md5sum catlove.csv\n",
    "!md5sum traffic.csv"
   ]
  },
  {
   "cell_type": "markdown",
   "metadata": {
    "colab_type": "text",
    "id": "h_TtwQfetSZl"
   },
   "source": [
    "## Finding files you put in Drive beforehand:\n",
    "\n",
    "[PyDrive Docs](https://pythonhosted.org/PyDrive/filelist.html)"
   ]
  }
 ],
 "metadata": {
  "colab": {
   "collapsed_sections": [],
   "name": "Solution of Huge Data Load.ipynb",
   "provenance": [],
   "version": "0.3.2"
  },
  "kernelspec": {
   "display_name": "Python 3",
   "language": "python",
   "name": "python3"
  },
  "language_info": {
   "codemirror_mode": {
    "name": "ipython",
    "version": 3
   },
   "file_extension": ".py",
   "mimetype": "text/x-python",
   "name": "python",
   "nbconvert_exporter": "python",
   "pygments_lexer": "ipython3",
   "version": "3.6.4"
  }
 },
 "nbformat": 4,
 "nbformat_minor": 1
}
