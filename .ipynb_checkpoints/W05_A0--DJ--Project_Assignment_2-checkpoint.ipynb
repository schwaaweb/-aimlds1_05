{
 "cells": [
  {
   "cell_type": "markdown",
   "metadata": {
    "colab_type": "text",
    "id": "view-in-github"
   },
   "source": [
    "[View in Colaboratory](https://colab.research.google.com/github/schwaaweb/aimlds1_05/blob/master/W05_A0--DJ--Project_Assignment_2.ipynb)"
   ]
  },
  {
   "cell_type": "markdown",
   "metadata": {
    "colab_type": "text",
    "id": "Vim6ATB8ADUI"
   },
   "source": [
    "## Project Assignment #2\n",
    "\n",
    "In this project assignment, we will get exposed to 'Empirical Cumulative Distribution Frequency' (i.e. ECDF)\n",
    "\n",
    "One of the drawbacks of Bee Swarm plots is that if you have a lot of data, then the plot can get quite cluttered. Therefore when working with large data sets, it is better to leverage the ECDF plot since it provides a complete picture into the distribution of the data. \n",
    "\n",
    "**Ask #1**\n",
    "\n",
    "The first ask in this assignment is to plot the ECDF depicting the distibution for the city of NEW HAVEN. Utilize the same dataset that you utilized in Coding Challenge #1 (i.e. \"Accidental Drug Related Deaths 2012-2017 (State of Connecticut)\" data set available from the Data.Gov website)\n",
    "\n",
    "https://catalog.data.gov/dataset?groups=local&organization_type=State+Government#topic=local_navigation\n",
    "\n",
    "What insights can you glean regarding the distribution of data?\n",
    "\n",
    "**Key Takeaway:** When examining the distribution of data, a good rule of thumb is to plot the ECDF first\n",
    "\n",
    "**Ask #2**\n",
    "\n",
    "Compare the ECDF to percentiles. Recall that you computed the 25th, 50th and 75th percentiles using the Box Plot\n",
    "\n",
    "**Hint**: **1)** First plot the ECDF and then overlay the ECDF with markers (i.e. Diamonds) depciting the 25th, 50th and 75th percentiles, **2)** Ensure that the Y-axis of the ECDF plot remains between 0 and 1\n"
   ]
  },
  {
   "cell_type": "code",
   "execution_count": 1,
   "metadata": {},
   "outputs": [],
   "source": [
    "import pandas as pd\n",
    "import numpy as np \n",
    "import matplotlib.pyplot as plt\n",
    "import seaborn as sns"
   ]
  },
  {
   "cell_type": "code",
   "execution_count": 2,
   "metadata": {},
   "outputs": [],
   "source": [
    "df = data = pd.read_csv('Accidental_Drug_Related_Deaths__2012-2017.csv')"
   ]
  },
  {
   "cell_type": "code",
   "execution_count": null,
   "metadata": {},
   "outputs": [],
   "source": []
  }
 ],
 "metadata": {
  "colab": {
   "name": "Project Assignment #2.ipynb",
   "provenance": [],
   "version": "0.3.2"
  },
  "kernelspec": {
   "display_name": "Python 3",
   "language": "python",
   "name": "python3"
  },
  "language_info": {
   "codemirror_mode": {
    "name": "ipython",
    "version": 3
   },
   "file_extension": ".py",
   "mimetype": "text/x-python",
   "name": "python",
   "nbconvert_exporter": "python",
   "pygments_lexer": "ipython3",
   "version": "3.6.4"
  }
 },
 "nbformat": 4,
 "nbformat_minor": 1
}
