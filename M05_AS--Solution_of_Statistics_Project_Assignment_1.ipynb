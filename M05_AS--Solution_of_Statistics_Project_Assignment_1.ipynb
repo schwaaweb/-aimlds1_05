{
  "nbformat": 4,
  "nbformat_minor": 0,
  "metadata": {
    "colab": {
      "name": "Solution of Statistics Project Assignment #1.ipynb",
      "version": "0.3.2",
      "provenance": [],
      "collapsed_sections": []
    },
    "kernelspec": {
      "name": "python3",
      "display_name": "Python 3"
    }
  },
  "cells": [
    {
      "cell_type": "markdown",
      "metadata": {
        "id": "view-in-github",
        "colab_type": "text"
      },
      "source": [
        "[View in Colaboratory](https://colab.research.google.com/github/schwaaweb/aimlds1_05/blob/master/M05_AS--Solution_of_Statistics_Project_Assignment_1.ipynb)"
      ]
    },
    {
      "metadata": {
        "id": "4bJmqC_7beQk",
        "colab_type": "code",
        "colab": {}
      },
      "cell_type": "code",
      "source": [
        "import pandas as pd\n",
        "import numpy as np\n",
        "import seaborn as sns\n",
        "import matplotlib.pyplot as plt\n",
        "import timeit"
      ],
      "execution_count": 0,
      "outputs": []
    },
    {
      "metadata": {
        "id": "6fI2fHckl-py",
        "colab_type": "code",
        "colab": {}
      },
      "cell_type": "code",
      "source": [
        "!pip install -U -q PyDrive"
      ],
      "execution_count": 0,
      "outputs": []
    },
    {
      "metadata": {
        "id": "Kd6wInEInMC1",
        "colab_type": "code",
        "colab": {}
      },
      "cell_type": "code",
      "source": [
        "from pydrive.auth import GoogleAuth\n",
        "from pydrive.drive import GoogleDrive\n",
        "from google.colab import auth\n",
        "from oauth2client.client import GoogleCredentials\n",
        "\n",
        "# 1. Authenticate and create the PyDrive client.\n",
        "auth.authenticate_user()\n",
        "gauth = GoogleAuth()\n",
        "gauth.credentials = GoogleCredentials.get_application_default()\n",
        "drive = GoogleDrive(gauth)\n"
      ],
      "execution_count": 0,
      "outputs": []
    },
    {
      "metadata": {
        "id": "8DDZ5A1ArNnB",
        "colab_type": "code",
        "colab": {}
      },
      "cell_type": "code",
      "source": [
        "download = drive.CreateFile({'id': '126ydEDAXxTCfZJ_lPAV24yos7F2pbj-o'})\n",
        "download.GetContentFile('traffic.csv') "
      ],
      "execution_count": 0,
      "outputs": []
    },
    {
      "metadata": {
        "id": "adoK-oFVpUg7",
        "colab_type": "code",
        "colab": {
          "base_uri": "https://localhost:8080/",
          "height": 357
        },
        "outputId": "076b8114-9f0a-489d-f0af-45ab66014811"
      },
      "cell_type": "code",
      "source": [
        "data_full = pd.read_csv('traffic.csv')\n",
        "print(data_full.head(5))"
      ],
      "execution_count": 5,
      "outputs": [
        {
          "output_type": "stream",
          "text": [
            "  Violation Charged Code               Violation Description  Violation Year  \\\n",
            "0                  5091G                UNLICENSED GT 60DAYS            2015   \n",
            "1                    376                LIGHTING-VARIOUS VIO            2015   \n",
            "2                  1160C  IMPROPER LEFT TURN ON ONE-WAY RDWY            2015   \n",
            "3                  5091G                UNLICENSED GT 60DAYS            2015   \n",
            "4                  5091G                UNLICENSED GT 60DAYS            2015   \n",
            "\n",
            "   Violation Month Violation Day of Week  Age at Violation Gender  \\\n",
            "0                1              THURSDAY              55.0      M   \n",
            "1                1              THURSDAY              24.0      M   \n",
            "2                2                MONDAY              62.0      M   \n",
            "3                9              THURSDAY              33.0      F   \n",
            "4                5              SATURDAY              45.0      M   \n",
            "\n",
            "  State of License                  Police Agency                Court Source  \n",
            "0         NEW YORK                NYC POLICE DEPT     QUEENS SOUTH TVB    TVB  \n",
            "1         NEW YORK                NYC POLICE DEPT     QUEENS SOUTH TVB    TVB  \n",
            "2         NEW YORK                NYC POLICE DEPT  MANHATTAN SOUTH TVB    TVB  \n",
            "3         MICHIGAN  TRIBOROUGH BRIDGE TUNNEL AUTH     QUEENS SOUTH TVB    TVB  \n",
            "4          UNKNOWN                NYC POLICE DEPT   BROOKLYN SOUTH TVB    TVB  \n"
          ],
          "name": "stdout"
        }
      ]
    },
    {
      "metadata": {
        "id": "o0y55y_GuT3W",
        "colab_type": "code",
        "colab": {}
      },
      "cell_type": "code",
      "source": [
        "# data_full is too big, lets sample it\n",
        "\n",
        "data_working = data_full.sample(int(len(data_full)*0.01))\n",
        "#data_working = data_full"
      ],
      "execution_count": 0,
      "outputs": []
    },
    {
      "metadata": {
        "id": "QJM6m03FupGA",
        "colab_type": "code",
        "colab": {
          "base_uri": "https://localhost:8080/",
          "height": 449
        },
        "outputId": "441f8681-036e-409a-cb20-e079ba11209e"
      },
      "cell_type": "code",
      "source": [
        "# Solutions:\n",
        "\n",
        "def cleanup(data):\n",
        "    return data.dropna()\n",
        "\n",
        "def get_column_by_gender(data,gender='any',column='Age at Violation'):\n",
        "    # TODO: better error checking: is it M or F specifically?\n",
        "    if('any' not in gender):\n",
        "        data = data[data['Gender'].isin(gender)]  \n",
        "    return data[column]\n",
        "    #return data[['Gender',column]]\n",
        "\n",
        "def get_summary_statistics(data,gender='any',column='Age at Violation'):\n",
        "    data = get_column_by_gender(data,gender,column)\n",
        "    mean = data.mean()\n",
        "    median = data.median()\n",
        "    stdd = data.std()\n",
        "    variance = stdd**2\n",
        "    percentiles = np.percentile(data,[25,50,75])\n",
        "    return {'mean':mean,'median':median,'standard deviation':stdd,\n",
        "            'variance':variance,'percentiles':percentiles}    \n",
        "\n",
        "### This way, we can pass in the full data when ready (will it have extra failures? probably!)\n",
        "def do_assignment(data):\n",
        "    # 1-2) Cleanup\n",
        "    cleaned = cleanup(data)\n",
        "    \n",
        "    # 3) Summary stats\n",
        "    print(get_summary_statistics(cleaned,gender=['M']))\n",
        "    print(get_summary_statistics(cleaned,gender=['F']))\n",
        "   \n",
        "    data_bp = data[['Gender','Age at Violation']]\n",
        "    sns.boxplot(x='Gender',y='Age at Violation',data=data_bp)\n",
        "   \n",
        "    plt.show()\n",
        "    data_vdow = get_column_by_gender(cleaned,['M','F'],column='Violation Day of Week')\n",
        "    plt.hist(data_vdow,bins=len(data_vdow.unique()))\n",
        "    plt.show()\n",
        "    data_vm = get_column_by_gender(cleaned,['M','F'],column='Violation Month')\n",
        "    plt.hist(data_vm,bins=len(data_vm.unique()))\n",
        "    plt.show()\n",
        "    data_sol = get_column_by_gender(cleaned,['M','F'],column='Gender')\n",
        "    plt.hist(data_sol,bins=len(data_sol.unique()))\n",
        "    plt.show()\n",
        "    data_sol = get_column_by_gender(cleaned,['M','F'],column='State of License')\n",
        "    plt.hist(data_sol,bins=len(data_sol.unique()))\n",
        "    plt.xticks(rotation=90,size='x-small')\n",
        "   \n",
        "def timeable():\n",
        "    do_assignment(data_working)\n",
        "\n",
        "timeit.timeit(timeable,number=1)"
      ],
      "execution_count": 0,
      "outputs": [
        {
          "output_type": "stream",
          "text": [
            "{'mean': 37.02469223446367, 'median': 34.0, 'standard deviation': 13.850353579118003, 'variance': 191.8322942665869, 'percentiles': array([25., 34., 47.])}\n",
            "{'mean': 36.27175599384344, 'median': 33.0, 'standard deviation': 13.512575399685426, 'variance': 182.58969393218376, 'percentiles': array([25., 33., 46.])}\n"
          ],
          "name": "stdout"
        },
        {
          "output_type": "stream",
          "text": [
            "/usr/local/lib/python3.6/dist-packages/seaborn/categorical.py:454: FutureWarning: remove_na is deprecated and is a private function. Do not use.\n",
            "  box_data = remove_na(group_data)\n"
          ],
          "name": "stderr"
        },
        {
          "output_type": "display_data",
          "data": {
            "image/png": "[encoded data removed]",
            "text/plain": [
              "<matplotlib.figure.Figure at 0x7f0c97ba8da0>"
            ]
          },
          "metadata": {
            "tags": []
          }
        }
      ]
    },
    {
      "metadata": {
        "id": "agKSnFGg4CN9",
        "colab_type": "code",
        "colab": {
          "base_uri": "https://localhost:8080/",
          "height": 1511
        },
        "outputId": "e66b0ca1-30ec-4822-8d32-5548c4b7044a"
      },
      "cell_type": "code",
      "source": [
        "# 6-7) Covariance/correlation\n",
        "\n",
        "def plot_and_correlate(data):\n",
        "    age_at_violation_values = plt.hist(data,bins=len(data.unique()))\n",
        "    plt.show()\n",
        "    plt.scatter(age_at_violation_values[1][:-1],age_at_violation_values[0],marker='.')\n",
        "    plt.show()\n",
        "    print(np.cov(age_at_violation_values[1][:-1],age_at_violation_values[0]))\n",
        "    print(np.corrcoef(age_at_violation_values[1][:-1],age_at_violation_values[0]))\n",
        "    print(np.correlate(age_at_violation_values[1][:-1],age_at_violation_values[0]))\n",
        "\n",
        "def do_last_step(data,year=2015):\n",
        "    data = data[data['Violation Year'].isin(year)]\n",
        "    cleaned = cleanup(data)\n",
        "    data_m = cleaned[cleaned['Gender'].isin(['M'])]\n",
        "    data_f = cleaned[cleaned['Gender'].isin(['F'])]\n",
        "    data_m_aav = data_m['Age at Violation']\n",
        "    data_f_aav = data_f['Age at Violation']\n",
        "    plot_and_correlate(data_m_aav)\n",
        "    plot_and_correlate(data_f_aav)\n",
        "    \n",
        "do_last_step(data_working,[2015])"
      ],
      "execution_count": 8,
      "outputs": [
        {
          "output_type": "display_data",
          "data": {
            "image/png": "[encoded data removed]",
            "text/plain": [
              "<matplotlib.figure.Figure at 0x7f0c98318ba8>"
            ]
          },
          "metadata": {
            "tags": []
          }
        },
        {
          "output_type": "display_data",
          "data": {
            "image/png": "[encoded data removed]",
            "text/plain": [
              "<matplotlib.figure.Figure at 0x7f0c982a4da0>"
            ]
          },
          "metadata": {
            "tags": []
          }
        },
        {
          "output_type": "stream",
          "text": [
            "[[  526.75106838 -6139.57326007]\n",
            " [-6139.57326007 81620.43290043]]\n",
            "[[ 1.         -0.93634528]\n",
            " [-0.93634528  1.        ]]\n",
            "[914191.19230769]\n"
          ],
          "name": "stdout"
        },
        {
          "output_type": "display_data",
          "data": {
            "image/png": "[encoded data removed]",
            "text/plain": [
              "<matplotlib.figure.Figure at 0x7f0c982e00b8>"
            ]
          },
          "metadata": {
            "tags": []
          }
        },
        {
          "output_type": "display_data",
          "data": {
            "image/png": "[encoded data removed]",
            "text/plain": [
              "<matplotlib.figure.Figure at 0x7f0c9829e358>"
            ]
          },
          "metadata": {
            "tags": []
          }
        },
        {
          "output_type": "stream",
          "text": [
            "[[  513.85135135 -2486.99722325]\n",
            " [-2486.99722325 14523.40114772]]\n",
            "[[ 1.         -0.91037932]\n",
            " [-0.91037932  1.        ]]\n",
            "[348307.81081081]\n"
          ],
          "name": "stdout"
        }
      ]
    },
    {
      "metadata": {
        "id": "gAG6IZPf294T",
        "colab_type": "code",
        "colab": {}
      },
      "cell_type": "code",
      "source": [
        ""
      ],
      "execution_count": 0,
      "outputs": []
    }
  ]
}