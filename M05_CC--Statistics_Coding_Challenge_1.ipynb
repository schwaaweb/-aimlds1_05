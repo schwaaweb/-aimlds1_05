{
  "nbformat": 4,
  "nbformat_minor": 0,
  "metadata": {
    "colab": {
      "name": "Statistics - Coding Challenge #1.ipynb",
      "version": "0.3.2",
      "provenance": []
    },
    "kernelspec": {
      "name": "python3",
      "display_name": "Python 3"
    }
  },
  "cells": [
    {
      "cell_type": "markdown",
      "metadata": {
        "id": "view-in-github",
        "colab_type": "text"
      },
      "source": [
        "[View in Colaboratory](https://colab.research.google.com/github/schwaaweb/aimlds1_05/blob/master/M05_CC--Statistics_Coding_Challenge_1.ipynb)"
      ]
    },
    {
      "metadata": {
        "id": "Vim6ATB8ADUI",
        "colab_type": "text"
      },
      "cell_type": "markdown",
      "source": [
        "# Statistics Coding Challenge #1\n",
        "\n",
        "In this coding challenge, we are going to use the \"Accidental Drug Related Deaths 2012-2017 (State of Connecticut)\" data set available from the Data.Gov website (https://catalog.data.gov/dataset?groups=local&organization_type=State+Government#topic=local_navigation). \n",
        "\n",
        "There are 2 main objectives you need to accomplish:\n",
        "\n",
        "1) First treat missing values for the \"Death City\" attribute - replace any missing values in the \"Death City\" with the city that has experienced the most number of deaths\n",
        "\n",
        "For each city, do the following:\n",
        "\n",
        "2) Compute summary statistics for the *age* attribute:\n",
        "\n",
        "\n",
        "a) Mean\n",
        "\n",
        "b) Median\n",
        "\n",
        "c) 25%, 50% and 75% percentiles using [np.percentile](https://docs.scipy.org/doc/numpy-1.14.0/reference/generated/numpy.percentile.html)\n",
        "\n",
        "d) Examine any outliers in data using [Boxplots](https://matplotlib.org/2.1.1/gallery/statistics/boxplot_demo.html)\n",
        "\n",
        "e) Construct a Bee Swarm plot to highlight the distibution of age by each city using [seaborn.swarmplot](https://seaborn.pydata.org/generated/seaborn.swarmplot.html)\n",
        "\n",
        "\n"
      ]
    },
    {
      "metadata": {
        "id": "vchq-N1O9Nlk",
        "colab_type": "code",
        "colab": {}
      },
      "cell_type": "code",
      "source": [
        "# LAMBDA SCHOOL\n",
        "#\n",
        "# MACHINE LEARNING\n",
        "#\n",
        "# MIT LICENSE"
      ],
      "execution_count": 0,
      "outputs": []
    }
  ]
}