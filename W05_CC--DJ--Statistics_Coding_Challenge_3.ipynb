{
  "nbformat": 4,
  "nbformat_minor": 0,
  "metadata": {
    "colab": {
      "name": "Coding Challenge #3.ipynb",
      "version": "0.3.2",
      "provenance": []
    },
    "kernelspec": {
      "name": "python3",
      "display_name": "Python 3"
    }
  },
  "cells": [
    {
      "cell_type": "markdown",
      "metadata": {
        "id": "view-in-github",
        "colab_type": "text"
      },
      "source": [
        "[View in Colaboratory](https://colab.research.google.com/github/schwaaweb/aimlds1_05/blob/master/W05_CC--DJ--Statistics_Coding_Challenge_3.ipynb)"
      ]
    },
    {
      "metadata": {
        "id": "Vim6ATB8ADUI",
        "colab_type": "text"
      },
      "cell_type": "markdown",
      "source": [
        "## Coding Challenge #3\n",
        "\n",
        "In this coding challenge, we will use Spearman's Rank to find the correlation between **categorical, non-linearly related and non-normally distributed variables**. You will gain exposure to 2 key concepts:\n",
        "\n",
        "1) Spearman's Rank Correlation\n",
        "\n",
        "2) Chi-Square tables (The Chi-Square method was covered in the \"Goodness Of Fit\" module. As a pre-requisite to this coding challenge, that models should be reviewed to understand the Chi-Square method)\n",
        "\n",
        "As a guideline:\n",
        "\n",
        "If the p-value is < 0.05 then you reject the null hypothesis and conclude that the variables are **correlated**\n",
        "\n",
        "If the p-value is > 0.05 then you accept the null hypothesis and conclude that the variables are **independent**\n",
        "\n",
        "When computing Spearman's Rank Correlation, you have to ensure the following:\n",
        "\n",
        "a) The variables/attributes are numeric and able to be bucketed into categories\n",
        "\n",
        "b) The variables are related non-lineraly\n",
        "\n",
        "c) The variables are non-normally distibuted\n",
        "\n",
        "\n",
        "Given this background on Spearman's Rank Correlation, there are 3 main objectives you need to accomplish:\n",
        "\n",
        "1) Construct a Scatter Plot of cyl versus am, gear and carb (i.e. 3 different scatter plots) to verify thatthe variables are related non-lineraly and and are not-normally distributed. *A visual examination of the data proves that cycl, am, gear and carb are numeric variables that can be placed in categories.*\n",
        "\n",
        "2) Compute the Spearman's Rank Correlation Coefficient\n",
        "\n",
        "3) Conduct the Chi-Square test to ascertain how the 'cyl' variable is related to am, gear and carb\n",
        "\n",
        "\n",
        "**Dataset to be used**: mtcars dataset that we have used in one of the previous sessions. The dataset is accessible via the following link:\n",
        "\n",
        "https://gist.github.com/seankross/a412dfbd88b3db70b74b\n",
        "\n",
        "\n",
        "\n",
        "\n"
      ]
    }
  ]
}