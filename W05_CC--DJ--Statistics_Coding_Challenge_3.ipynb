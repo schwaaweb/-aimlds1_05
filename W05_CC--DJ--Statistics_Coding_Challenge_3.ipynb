{
 "cells": [
  {
   "cell_type": "markdown",
   "metadata": {
    "colab_type": "text",
    "id": "view-in-github"
   },
   "source": [
    "[View in Colaboratory](https://colab.research.google.com/github/schwaaweb/aimlds1_05/blob/master/W05_CC--DJ--Statistics_Coding_Challenge_3.ipynb)"
   ]
  },
  {
   "cell_type": "markdown",
   "metadata": {
    "colab_type": "text",
    "id": "Vim6ATB8ADUI"
   },
   "source": [
    "## Coding Challenge #3\n",
    "\n",
    "In this coding challenge, we will use Spearman's Rank to find the correlation between **categorical, non-linearly related and non-normally distributed variables**. You will gain exposure to 2 key concepts:\n",
    "\n",
    "1) Spearman's Rank Correlation\n",
    "\n",
    "2) Chi-Square tables (The Chi-Square method was covered in the \"Goodness Of Fit\" module. As a pre-requisite to this coding challenge, that models should be reviewed to understand the Chi-Square method)\n",
    "\n",
    "As a guideline:\n",
    "\n",
    "If the p-value is < 0.05 then you reject the null hypothesis and conclude that the variables are **correlated**\n",
    "\n",
    "If the p-value is > 0.05 then you accept the null hypothesis and conclude that the variables are **independent**\n",
    "\n",
    "When computing Spearman's Rank Correlation, you have to ensure the following:\n",
    "\n",
    "a) The variables/attributes are numeric and able to be bucketed into categories\n",
    "\n",
    "b) The variables are related non-lineraly\n",
    "\n",
    "c) The variables are non-normally distibuted\n",
    "\n",
    "\n",
    "Given this background on Spearman's Rank Correlation, there are 3 main objectives you need to accomplish:\n",
    "\n",
    "1) Construct a Scatter Plot of cyl versus am, gear and carb (i.e. 3 different scatter plots) to verify that the variables are related non-lineraly and and are not-normally distributed. *A visual examination of the data proves that cycl, am, gear and carb are numeric variables that can be placed in categories.*\n",
    "\n",
    "2) Compute the Spearman's Rank Correlation Coefficient\n",
    "\n",
    "3) Conduct the Chi-Square test to ascertain how the 'cyl' variable is related to am, gear and carb\n",
    "\n",
    "\n",
    "**Dataset to be used**: mtcars dataset that we have used in one of the previous sessions. The dataset is accessible via the following link:\n",
    "\n",
    "https://gist.github.com/seankross/a412dfbd88b3db70b74b\n",
    "\n",
    "\n",
    "\n",
    "\n"
   ]
  },
  {
   "cell_type": "markdown",
   "metadata": {},
   "source": [
    "### Chi Squared:\n",
    "$$\\chi^2=\\Bigg[\\frac{(O - E)^2}{E}\\Bigg]$$"
   ]
  },
  {
   "cell_type": "markdown",
   "metadata": {},
   "source": [
    "### Spearman's Rank-Order Correlation:\n",
    "\n",
    "For data with no tied ranks where $d_i =$ __difference in paired ranks__ and $n =$ __number of cases__ the formula is:\n",
    "$$\\rho = 1 - \\frac{6\\Sigma d^2_i}{n(n^2-1)} $$\n",
    "\n",
    "For data with tied ranks where $i = $ **paired score** the formula is:\n",
    "$$\\rho = \\frac{\\Sigma_i(x_i-\\bar{x})(y_i-\\bar{y})}{\\sqrt{\\Sigma_i(x_i-\\bar{x})^2\\Sigma_i(y_i-\\bar{y})^2}} $$"
   ]
  },
  {
   "cell_type": "code",
   "execution_count": 5,
   "metadata": {},
   "outputs": [],
   "source": [
    "import pandas as pd\n",
    "import numpy as np\n",
    "import matplotlib.pyplot as plt\n",
    "import seaborn as sns"
   ]
  },
  {
   "cell_type": "code",
   "execution_count": null,
   "metadata": {},
   "outputs": [],
   "source": [
    "def spearman_ranked_order_corr_nottied(dpr,n):\n",
    "    dpr_total = (dpr[0]-dpr[1])**2\n",
    "    rho = 1-((6*dpr))\n",
    "    "
   ]
  },
  {
   "cell_type": "code",
   "execution_count": 11,
   "metadata": {},
   "outputs": [
    {
     "data": {
      "text/plain": [
       "(32, 12)"
      ]
     },
     "execution_count": 11,
     "metadata": {},
     "output_type": "execute_result"
    }
   ],
   "source": [
    "df = pd.read_csv('mtcars.csv')\n",
    "df.shape"
   ]
  },
  {
   "cell_type": "code",
   "execution_count": 10,
   "metadata": {},
   "outputs": [
    {
     "data": {
      "image/png": "[encoded data removed]",
      "text/plain": [
       "<matplotlib.figure.Figure at 0x115435240>"
      ]
     },
     "metadata": {},
     "output_type": "display_data"
    },
    {
     "data": {
      "image/png": "[encoded data removed]",
      "text/plain": [
       "<matplotlib.figure.Figure at 0x1154e6f60>"
      ]
     },
     "metadata": {},
     "output_type": "display_data"
    },
    {
     "data": {
      "image/png": "[encoded data removed]",
      "text/plain": [
       "<matplotlib.figure.Figure at 0x1155264e0>"
      ]
     },
     "metadata": {},
     "output_type": "display_data"
    }
   ],
   "source": [
    "plt.plot(df['cyl'],df['am'], 'o');\n",
    "plt.show()\n",
    "plt.plot(df['cyl'],df['gear'], 'og');\n",
    "plt.show()\n",
    "plt.plot(df['cyl'],df['carb'], 'or');\n",
    "plt.show()"
   ]
  },
  {
   "cell_type": "code",
   "execution_count": 18,
   "metadata": {},
   "outputs": [
    {
     "name": "stdout",
     "output_type": "stream",
     "text": [
      "\n",
      "Wed May  2 18:12:02 EDT 2018\n",
      "\n",
      "     Git Update and Push\n",
      "\n",
      "On branch master\n",
      "Your branch is up to date with 'origin/master'.\n",
      "\n",
      "Changes to be committed:\n",
      "  (use \"git reset HEAD <file>...\" to unstage)\n",
      "\n",
      "\t\u001b[32mmodified:   W05_CC--DJ--Statistics_Coding_Challenge_3.ipynb\u001b[m\n",
      "\t\u001b[32mrenamed:    gitupdatenpush.sh -> gunp\u001b[m\n",
      "\n",
      "\n",
      "\n",
      "fatal: Paths with -a does not make sense.\n",
      "On branch master\n",
      "Your branch is up to date with 'origin/master'.\n",
      "\n",
      "Changes to be committed:\n",
      "  (use \"git reset HEAD <file>...\" to unstage)\n",
      "\n",
      "\t\u001b[32mmodified:   W05_CC--DJ--Statistics_Coding_Challenge_3.ipynb\u001b[m\n",
      "\t\u001b[32mrenamed:    gitupdatenpush.sh -> gunp\u001b[m\n",
      "\n",
      "\n",
      "Everything up-to-date\n",
      "\n",
      "On branch master\n",
      "Your branch is up to date with 'origin/master'.\n",
      "\n",
      "Changes to be committed:\n",
      "  (use \"git reset HEAD <file>...\" to unstage)\n",
      "\n",
      "\t\u001b[32mmodified:   W05_CC--DJ--Statistics_Coding_Challenge_3.ipynb\u001b[m\n",
      "\t\u001b[32mrenamed:    gitupdatenpush.sh -> gunp\u001b[m\n",
      "\n",
      "\n",
      "     Git Update and Push\n",
      "\n",
      "Wed May  2 18:12:07 EDT 2018\n",
      "\n"
     ]
    }
   ],
   "source": [
    "!gunp \"changed gitupdatenpush.sh to gunp and put a copy at /usr/local/bin/gunp\""
   ]
  },
  {
   "cell_type": "code",
   "execution_count": 20,
   "metadata": {},
   "outputs": [
    {
     "name": "stdout",
     "output_type": "stream",
     "text": [
      "On branch master\r\n",
      "Your branch is up to date with 'origin/master'.\r\n",
      "\r\n",
      "nothing to commit, working tree clean\r\n"
     ]
    }
   ],
   "source": [
    "!git status\n"
   ]
  },
  {
   "cell_type": "code",
   "execution_count": 19,
   "metadata": {},
   "outputs": [
    {
     "name": "stdout",
     "output_type": "stream",
     "text": [
      "On branch master\r\n",
      "Your branch is up to date with 'origin/master'.\r\n",
      "\r\n",
      "nothing to commit, working tree clean\r\n"
     ]
    }
   ],
   "source": [
    "!git status"
   ]
  },
  {
   "cell_type": "code",
   "execution_count": null,
   "metadata": {},
   "outputs": [],
   "source": []
  }
 ],
 "metadata": {
  "colab": {
   "name": "Coding Challenge #3.ipynb",
   "provenance": [],
   "version": "0.3.2"
  },
  "kernelspec": {
   "display_name": "Python 3",
   "language": "python",
   "name": "python3"
  },
  "language_info": {
   "codemirror_mode": {
    "name": "ipython",
    "version": 3
   },
   "file_extension": ".py",
   "mimetype": "text/x-python",
   "name": "python",
   "nbconvert_exporter": "python",
   "pygments_lexer": "ipython3",
   "version": "3.6.4"
  }
 },
 "nbformat": 4,
 "nbformat_minor": 1
}
