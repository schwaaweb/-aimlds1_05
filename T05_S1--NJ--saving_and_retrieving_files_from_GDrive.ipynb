{
  "nbformat": 4,
  "nbformat_minor": 0,
  "metadata": {
    "colab": {
      "name": "saving and retrieving files from GDrive.ipynb",
      "version": "0.3.2",
      "provenance": [],
      "collapsed_sections": []
    },
    "kernelspec": {
      "name": "python3",
      "display_name": "Python 3"
    }
  },
  "cells": [
    {
      "cell_type": "markdown",
      "metadata": {
        "id": "view-in-github",
        "colab_type": "text"
      },
      "source": [
        "[View in Colaboratory](https://colab.research.google.com/github/schwaaweb/aimlds1_05/blob/master/T05_S1--NJ--saving_and_retrieving_files_from_GDrive.ipynb)"
      ]
    },
    {
      "metadata": {
        "id": "fYj4936uInT3",
        "colab_type": "text"
      },
      "cell_type": "markdown",
      "source": [
        "## Run once"
      ]
    },
    {
      "metadata": {
        "id": "R-LkaJ_vBL0O",
        "colab_type": "code",
        "colab": {}
      },
      "cell_type": "code",
      "source": [
        "!pip install -U -q PyDrive"
      ],
      "execution_count": 0,
      "outputs": []
    },
    {
      "metadata": {
        "id": "kOPkr-6II_nB",
        "colab_type": "text"
      },
      "cell_type": "markdown",
      "source": [
        "## Use if you want to upload a file"
      ]
    },
    {
      "metadata": {
        "id": "dbMNnBaqF0n1",
        "colab_type": "code",
        "colab": {}
      },
      "cell_type": "code",
      "source": [
        "from pydrive.auth import GoogleAuth\n",
        "from pydrive.drive import GoogleDrive\n",
        "from google.colab import auth\n",
        "from oauth2client.client import GoogleCredentials\n",
        "\n",
        "# file: string (name of existing file)\n",
        "# title: string (name which you want to give to the file being uploaded to Drive)\n",
        "# returns the file_id of the uploaded file on Drive\n",
        "def upload_file_to_drive(file, title):\n",
        "  auth.authenticate_user()\n",
        "  gauth = GoogleAuth()\n",
        "  gauth.credentials = GoogleCredentials.get_application_default()\n",
        "  drive = GoogleDrive(gauth)\n",
        "\n",
        "  export = drive.CreateFile({'title':title})  \n",
        "  export.SetContentFile(file)\n",
        "  export.Upload()\n",
        "\n",
        "  return export['id']  "
      ],
      "execution_count": 0,
      "outputs": []
    },
    {
      "metadata": {
        "id": "OtNFtsQFJFBq",
        "colab_type": "text"
      },
      "cell_type": "markdown",
      "source": [
        "## Use if you want to download a file"
      ]
    },
    {
      "metadata": {
        "id": "903IVRanHA4b",
        "colab_type": "code",
        "colab": {}
      },
      "cell_type": "code",
      "source": [
        "from pydrive.auth import GoogleAuth\n",
        "from pydrive.drive import GoogleDrive\n",
        "from google.colab import auth\n",
        "from oauth2client.client import GoogleCredentials\n",
        "\n",
        "# file_id: string (id of the file you want to download)\n",
        "# title: string (name which you want to give to the file being downloaded)\n",
        "def download_file_from_drive(file_id, title):\n",
        "  auth.authenticate_user()\n",
        "  gauth = GoogleAuth()\n",
        "  gauth.credentials = GoogleCredentials.get_application_default()\n",
        "  drive = GoogleDrive(gauth)\n",
        "  \n",
        "  download = drive.CreateFile({'id': file_id})\n",
        "  download.GetContentFile(title)"
      ],
      "execution_count": 0,
      "outputs": []
    },
    {
      "metadata": {
        "id": "fOsD47IXJMqj",
        "colab_type": "text"
      },
      "cell_type": "markdown",
      "source": [
        "# Example Usage"
      ]
    },
    {
      "metadata": {
        "id": "-l-lLjPGJQpV",
        "colab_type": "text"
      },
      "cell_type": "markdown",
      "source": [
        "### get a file from internet"
      ]
    },
    {
      "metadata": {
        "id": "VV9ZZzksEKMM",
        "colab_type": "code",
        "colab": {
          "base_uri": "https://localhost:8080/",
          "height": 233
        },
        "outputId": "e91a23b8-a2a3-4056-d99b-59712e21862b"
      },
      "cell_type": "code",
      "source": [
        "!wget https://data.ny.gov/api/views/34dd-6g2j/rows.csv?accessType=DOWNLOAD -O afile.csv"
      ],
      "execution_count": 18,
      "outputs": [
        {
          "output_type": "stream",
          "text": [
            "--2018-05-01 19:19:37--  https://data.ny.gov/api/views/34dd-6g2j/rows.csv?accessType=DOWNLOAD\n",
            "Resolving data.ny.gov (data.ny.gov)... 52.206.140.199\n",
            "Connecting to data.ny.gov (data.ny.gov)|52.206.140.199|:443... connected.\n",
            "HTTP request sent, awaiting response... 200 OK\n",
            "Length: unspecified [text/csv]\n",
            "Saving to: ‘afile.csv’\n",
            "\n",
            "afile.csv               [ <=>                ]  99.56K  --.-KB/s    in 0.03s   \n",
            "\n",
            "Last-modified header invalid -- time-stamp ignored.\n",
            "2018-05-01 19:19:37 (3.87 MB/s) - ‘afile.csv’ saved [101948]\n",
            "\n"
          ],
          "name": "stdout"
        }
      ]
    },
    {
      "metadata": {
        "id": "ukdD_vZwJdXJ",
        "colab_type": "text"
      },
      "cell_type": "markdown",
      "source": [
        "### check its existence on your Colab VM"
      ]
    },
    {
      "metadata": {
        "id": "YB-EDWooJlcI",
        "colab_type": "code",
        "colab": {}
      },
      "cell_type": "code",
      "source": [
        "!ls -al"
      ],
      "execution_count": 0,
      "outputs": []
    },
    {
      "metadata": {
        "id": "f2lWdV4nKneh",
        "colab_type": "text"
      },
      "cell_type": "markdown",
      "source": [
        "you should see `afile.csv` in the above list of files"
      ]
    },
    {
      "metadata": {
        "id": "woEWAT5uJxta",
        "colab_type": "text"
      },
      "cell_type": "markdown",
      "source": [
        "### upload a file on your Colab VM to your GDrive"
      ]
    },
    {
      "metadata": {
        "id": "wAqMcNdMHuWK",
        "colab_type": "code",
        "colab": {
          "base_uri": "https://localhost:8080/",
          "height": 35
        },
        "outputId": "513a0024-eb8e-4b8a-a013-8321082d7ad6"
      },
      "cell_type": "code",
      "source": [
        "file_id = upload_file_to_drive('afile.csv', 'afile_uploaded.csv')\n",
        "file_id"
      ],
      "execution_count": 21,
      "outputs": [
        {
          "output_type": "execute_result",
          "data": {
            "text/plain": [
              "'1ea-wF1ia3PXeOhFm_-u-4RJ_iYurya3Q'"
            ]
          },
          "metadata": {
            "tags": []
          },
          "execution_count": 21
        }
      ]
    },
    {
      "metadata": {
        "id": "W2SPgTh6J4OI",
        "colab_type": "text"
      },
      "cell_type": "markdown",
      "source": [
        "\n",
        "\n",
        "1.   Go check `Recent` in your GDrive: https://drive.google.com/drive/my-drive -----> the file you uploaded should appear\n",
        "2.   **save the `file_id` somewhere (or don't lose it)** -----> when the colab session disconnects, we can use this file_id to fast access the file again on our Colab VM\n",
        "\n"
      ]
    },
    {
      "metadata": {
        "id": "peSUOtx3J3_5",
        "colab_type": "text"
      },
      "cell_type": "markdown",
      "source": [
        "### download a file from your GDrive to your Colab VM"
      ]
    },
    {
      "metadata": {
        "id": "SpaOds0-H8aD",
        "colab_type": "code",
        "colab": {}
      },
      "cell_type": "code",
      "source": [
        "download_file_from_drive(file_id, 'afile_downloaded.csv')"
      ],
      "execution_count": 0,
      "outputs": []
    },
    {
      "metadata": {
        "id": "RAMNcSKGIaMK",
        "colab_type": "code",
        "colab": {}
      },
      "cell_type": "code",
      "source": [
        "!ls -al"
      ],
      "execution_count": 0,
      "outputs": []
    },
    {
      "metadata": {
        "id": "WZ7XPsx9Ktl8",
        "colab_type": "text"
      },
      "cell_type": "markdown",
      "source": [
        "you should see `afile_downloaded.csv` in the above list of files"
      ]
    },
    {
      "metadata": {
        "id": "Jiqgdsz7L-6a",
        "colab_type": "text"
      },
      "cell_type": "markdown",
      "source": [
        "## Note: the above downloaded file should be available across all your current Colab sessions (so if you were working in another tab, you should be able to access this file)"
      ]
    }
  ]
}