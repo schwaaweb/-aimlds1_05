{
  "nbformat": 4,
  "nbformat_minor": 0,
  "metadata": {
    "colab": {
      "name": "Project Assignment #2.ipynb",
      "version": "0.3.2",
      "provenance": []
    },
    "kernelspec": {
      "name": "python3",
      "display_name": "Python 3"
    }
  },
  "cells": [
    {
      "cell_type": "markdown",
      "metadata": {
        "id": "view-in-github",
        "colab_type": "text"
      },
      "source": [
        "[View in Colaboratory](https://colab.research.google.com/github/schwaaweb/aimlds1_05/blob/master/W05_A0--Project_Assignment_2.ipynb)"
      ]
    },
    {
      "metadata": {
        "id": "Vim6ATB8ADUI",
        "colab_type": "text"
      },
      "cell_type": "markdown",
      "source": [
        "## Project Assignment #2\n",
        "\n",
        "In this project assignment, we will get exposed to 'Empirical Cumulative Distribution Frequency' (i.e. ECDF)\n",
        "\n",
        "One of the drawbacks of Bee Swarm plots is that if you have a lot of data, then the plot can get quite cluttered. Therefore when working with large data sets, it is better to leverage the ECDF plot since it provides a complete picture into the distribution of the data. \n",
        "\n",
        "**Ask #1**\n",
        "\n",
        "The first ask in this assignment is to plot the ECDF depicting the distibution for the city of NEW HAVEN. Utilize the same dataset that you utilized in Coding Challenge #1 (i.e. \"Accidental Drug Related Deaths 2012-2017 (State of Connecticut)\" data set available from the Data.Gov website)\n",
        "\n",
        "https://catalog.data.gov/dataset?groups=local&organization_type=State+Government#topic=local_navigation\n",
        "\n",
        "What insights can you glean regarding the distribution of data?\n",
        "\n",
        "**Key Takeaway:** When examining the distribution of data, a good rule of thumb is to plot the ECDF first\n",
        "\n",
        "**Ask #2**\n",
        "\n",
        "Compare the ECDF to percentiles. Recall that you computed the 25th, 50th and 75th percentiles using the Box Plot\n",
        "\n",
        "**Hint**: **1)** First plot the ECDF and then overlay the ECDF with markers (i.e. Diamonds) depciting the 25th, 50th and 75th percentiles, **2)** Ensure that the Y-axis of the ECDF plot remains between 0 and 1\n"
      ]
    }
  ]
}