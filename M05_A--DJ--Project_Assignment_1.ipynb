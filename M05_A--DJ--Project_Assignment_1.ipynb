{
 "cells": [
  {
   "cell_type": "markdown",
   "metadata": {
    "colab_type": "text",
    "id": "view-in-github"
   },
   "source": [
    "[View in Colaboratory](https://colab.research.google.com/github/schwaaweb/aimlds1_05/blob/master/MO5_A--Project_Assignment_1.ipynb)"
   ]
  },
  {
   "cell_type": "markdown",
   "metadata": {
    "colab_type": "text",
    "id": "5Df5yvC99sYU"
   },
   "source": [
    "Project Assignment #1\n",
    "In this project assignment, we are going to use the \"Traffic Tickets Issued: Four Year Window\" data set available from the Data.Gov website (https://catalog.data.gov/dataset?groups=local&organization_type=State+Government#topic=local_navigation).\n",
    "\n",
    "The focus of the analysis will be oriented towards the following attributes within the cities of :\n",
    "\n",
    "1) Violation Year\n",
    "\n",
    "2) Violation Month\n",
    "\n",
    "3) Violation Day of Week\n",
    "\n",
    "4) Age at Violation\n",
    "\n",
    "5) Gender\n",
    "\n",
    "There are a few objectives you need to accomplish:\n",
    "\n",
    "1) Examine the above-mentioned attributes in the data set for any missing values\n",
    "\n",
    "2) If there are any missing values, treat the misisng values. Here is a article that provides insight into the common methods to deal with missing values:\n",
    "\n",
    "https://towardsdatascience.com/working-with-missing-data-in-machine-learning-9c0a430df4ce\n",
    "\n",
    "Please the tips provided in the article to deal with missing values\n",
    "\n",
    "3) Compute summary statistics for the \"age at violation\" for Males and Females respectively\n",
    "\n",
    "a) Mean, b) Median, c) Standard Deviation, d) Variance\n",
    "\n",
    "4) Construct a Boxplot to surface the 25%, 50% and 75% percentiles of \"Age at Violation\" by Gender\n",
    "\n",
    "5) Construct Histograms to showcase the following:\n",
    "\n",
    "a) Count of Violations by Day of Week\n",
    "\n",
    "b) Count of Violations by Month\n",
    "\n",
    "c) Count of Violations by Gender\n",
    "\n",
    "6) Hone in on the data set for the Year 2015. Does the 'Violation at Age' and the 'Total # Of Violations' vary together? Construct a scatter plot that plots the 'Violation at Age' v/s the Total # Of Violation'. Does the Scatter Plot point to a positive covariance? Now, compute the Covariance. Perform this analysis for both the genders.\n",
    "\n",
    "7) Compute the Correlation Coefficient between the 2 variable i.e. 'Violation at Age' and the 'Total # Of Violations'. Perform this analysis for both the genders."
   ]
  },
  {
   "cell_type": "code",
   "execution_count": 1,
   "metadata": {
    "colab": {},
    "colab_type": "code",
    "id": "h1HeeCWDTAVc"
   },
   "outputs": [],
   "source": [
    "import numpy as np\n",
    "import pandas as pd\n",
    "import matplotlib.pyplot as plt\n",
    "import seaborn as sns"
   ]
  },
  {
   "cell_type": "code",
   "execution_count": 4,
   "metadata": {},
   "outputs": [
    {
     "data": {
      "text/plain": [
       "(228972, 11)"
      ]
     },
     "execution_count": 4,
     "metadata": {},
     "output_type": "execute_result"
    }
   ],
   "source": [
    "df = pd.read_csv('rows.csv')\n",
    "np.shape(df)\n",
    "#df"
   ]
  },
  {
   "cell_type": "code",
   "execution_count": null,
   "metadata": {},
   "outputs": [],
   "source": []
  }
 ],
 "metadata": {
  "colab": {
   "name": "Project Assignment # 1.ipynb",
   "provenance": [],
   "version": "0.3.2"
  },
  "kernelspec": {
   "display_name": "Python 3",
   "language": "python",
   "name": "python3"
  },
  "language_info": {
   "codemirror_mode": {
    "name": "ipython",
    "version": 3
   },
   "file_extension": ".py",
   "mimetype": "text/x-python",
   "name": "python",
   "nbconvert_exporter": "python",
   "pygments_lexer": "ipython3",
   "version": "3.6.4"
  }
 },
 "nbformat": 4,
 "nbformat_minor": 1
}
