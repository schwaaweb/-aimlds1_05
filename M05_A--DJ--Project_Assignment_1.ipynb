{
 "cells": [
  {
   "cell_type": "markdown",
   "metadata": {
    "colab_type": "text",
    "id": "view-in-github"
   },
   "source": [
    "[View in Colaboratory](https://colab.research.google.com/github/schwaaweb/aimlds1_05/blob/master/MO5_A--Project_Assignment_1.ipynb)\n",
    "\n",
    "\n",
    "[Dataset Homepage](https://data.ny.gov/Transportation/Traffic-Tickets-Issued-Four-Year-Window/q4hy-kbtf)\n",
    "\n",
    "\n",
    "14.3 Million Rows by 11 Columns of Traffic Tickets\n"
   ]
  },
  {
   "cell_type": "markdown",
   "metadata": {
    "colab_type": "text",
    "id": "5Df5yvC99sYU"
   },
   "source": [
    "Project Assignment #1\n",
    "In this project assignment, we are going to use the \"Traffic Tickets Issued: Four Year Window\" data set available from the Data.Gov website (https://catalog.data.gov/datasetgroups=local&organization_type=State+Government#topic=local_navigation).\n",
    "\n",
    "The focus of the analysis will be oriented towards the following attributes within the cities of :\n",
    "\n",
    "1) Violation Year\n",
    "\n",
    "2) Violation Month\n",
    "\n",
    "3) Violation Day of Week\n",
    "\n",
    "4) Age at Violation\n",
    "\n",
    "5) Gender\n",
    "\n",
    "There are a few objectives you need to accomplish:\n",
    "\n",
    "1) Examine the above-mentioned attributes in the data set for any missing values\n",
    "\n",
    "2) If there are any missing values, treat the misisng values. Here is a article that provides insight into the common methods to deal with missing values:\n",
    "\n",
    "https://towardsdatascience.com/working-with-missing-data-in-machine-learning-9c0a430df4ce\n",
    "\n",
    "Please the tips provided in the article to deal with missing values\n",
    "\n",
    "3) Compute summary statistics for the \"age at violation\" for Males and Females respectively\n",
    "\n",
    "a) Mean, b) Median, c) Standard Deviation, d) Variance\n",
    "\n",
    "4) Construct a Boxplot to surface the 25%, 50% and 75% percentiles of \"Age at Violation\" by Gender\n",
    "\n",
    "5) Construct Histograms to showcase the following:\n",
    "\n",
    "a) Count of Violations by Day of Week\n",
    "\n",
    "b) Count of Violations by Month\n",
    "\n",
    "c) Count of Violations by Gender\n",
    "\n",
    "6) Hone in on the data set for the Year 2015. Does the 'Violation at Age' and the 'Total # Of Violations' vary together? Construct a scatter plot that plots the 'Violation at Age' v/s the Total # Of Violation'. Does the Scatter Plot point to a positive covariance? Now, compute the Covariance. Perform this analysis for both the genders.\n",
    "\n",
    "7) Compute the Correlation Coefficient between the 2 variable i.e. 'Violation at Age' and the 'Total # Of Violations'. Perform this analysis for both the genders."
   ]
  },
  {
   "cell_type": "code",
   "execution_count": 9,
   "metadata": {
    "colab": {},
    "colab_type": "code",
    "id": "h1HeeCWDTAVc"
   },
   "outputs": [],
   "source": [
    "import numpy as np\n",
    "import pandas as pd\n",
    "import matplotlib.pyplot as plt\n",
    "import seaborn as sns\n",
    "\n",
    "#!wget https://data.ny.gov/api/views/q4hy-kbtf/rows.csv?accessType=DOWNLOAD -O rows.csv  <---- downloaded wrong data :(\n",
    "\n",
    "\n",
    "### This worked below\n",
    "#!curl -C - -O https://data.ny.gov/api/views/q4hy-kbtf/rows.csv?accessType=DOWNLOAD\n",
    "#!mv rows.csv\\?accessType\\=DOWNLOAD rows.csv\n"
   ]
  },
  {
   "cell_type": "code",
   "execution_count": 10,
   "metadata": {},
   "outputs": [
    {
     "data": {
      "text/plain": [
       "(14275009, 11)"
      ]
     },
     "execution_count": 10,
     "metadata": {},
     "output_type": "execute_result"
    }
   ],
   "source": [
    "df = pd.read_csv('rows.csv')\n",
    "np.shape(df)\n",
    "#df"
   ]
  },
  {
   "cell_type": "code",
   "execution_count": 12,
   "metadata": {},
   "outputs": [
    {
     "data": {
      "text/plain": [
       "0"
      ]
     },
     "execution_count": 12,
     "metadata": {},
     "output_type": "execute_result"
    }
   ],
   "source": [
    "df['Violation Year'].isnull().sum()\n"
   ]
  },
  {
   "cell_type": "code",
   "execution_count": 13,
   "metadata": {},
   "outputs": [
    {
     "data": {
      "text/plain": [
       "2014    3594156\n",
       "2013    3591283\n",
       "2016    3580991\n",
       "2015    3508579\n",
       "Name: Violation Year, dtype: int64"
      ]
     },
     "execution_count": 13,
     "metadata": {},
     "output_type": "execute_result"
    }
   ],
   "source": [
    "df['Violation Year'].value_counts()"
   ]
  },
  {
   "cell_type": "code",
   "execution_count": 14,
   "metadata": {},
   "outputs": [
    {
     "data": {
      "text/plain": [
       "2014.495921088386"
      ]
     },
     "execution_count": 14,
     "metadata": {},
     "output_type": "execute_result"
    }
   ],
   "source": [
    "df['Violation Year'].mean()"
   ]
  },
  {
   "cell_type": "code",
   "execution_count": 15,
   "metadata": {},
   "outputs": [
    {
     "data": {
      "text/plain": [
       "2014.0"
      ]
     },
     "execution_count": 15,
     "metadata": {},
     "output_type": "execute_result"
    }
   ],
   "source": [
    "df['Violation Year'].median()"
   ]
  },
  {
   "cell_type": "code",
   "execution_count": 16,
   "metadata": {},
   "outputs": [
    {
     "data": {
      "text/plain": [
       "0    2014\n",
       "dtype: int64"
      ]
     },
     "execution_count": 16,
     "metadata": {},
     "output_type": "execute_result"
    }
   ],
   "source": [
    "df['Violation Year'].mode()"
   ]
  },
  {
   "cell_type": "code",
   "execution_count": 51,
   "metadata": {},
   "outputs": [
    {
     "data": {
      "text/plain": [
       "7089570     44.0\n",
       "7089571     49.0\n",
       "7089572     28.0\n",
       "7089573     33.0\n",
       "7089574     48.0\n",
       "7089575     30.0\n",
       "7089576     26.0\n",
       "7089577     34.0\n",
       "7089578     24.0\n",
       "7089579     24.0\n",
       "7089580     24.0\n",
       "7089581     24.0\n",
       "7089582     23.0\n",
       "7089583     37.0\n",
       "7089584     53.0\n",
       "7089585     57.0\n",
       "7089586     31.0\n",
       "7089587     55.0\n",
       "7089588     56.0\n",
       "7089589     25.0\n",
       "7089590     46.0\n",
       "7089591     36.0\n",
       "7089592     37.0\n",
       "7089593     18.0\n",
       "7089594     40.0\n",
       "7089595     21.0\n",
       "7089596     21.0\n",
       "7089597     30.0\n",
       "7089598     31.0\n",
       "7089599     21.0\n",
       "            ... \n",
       "10680823    21.0\n",
       "10680824    21.0\n",
       "10680825    21.0\n",
       "10680826    43.0\n",
       "10680827    43.0\n",
       "10680828    43.0\n",
       "10680829    43.0\n",
       "10680831    39.0\n",
       "10680832    21.0\n",
       "10680833    17.0\n",
       "10680834    21.0\n",
       "10680835    43.0\n",
       "10680836    23.0\n",
       "10680837    23.0\n",
       "10680838    28.0\n",
       "10680839    28.0\n",
       "10680840    28.0\n",
       "10680841    23.0\n",
       "10680842    32.0\n",
       "10680843    32.0\n",
       "10680844    23.0\n",
       "10680845    43.0\n",
       "10680846    21.0\n",
       "10680847    19.0\n",
       "10680848    30.0\n",
       "10680849    30.0\n",
       "10680850    30.0\n",
       "10680851    23.0\n",
       "10680852    48.0\n",
       "10680853    44.0\n",
       "Name: Age at Violation, Length: 3591283, dtype: float64"
      ]
     },
     "execution_count": 51,
     "metadata": {},
     "output_type": "execute_result"
    }
   ],
   "source": [
    "#vydf = np.percentile(df[(df['Violation Year'] == 2014)], [25,50,75])\n",
    "(df[(df['Violation Year'] == 2013)]['Age at Violation'])"
   ]
  },
  {
   "cell_type": "code",
   "execution_count": 52,
   "metadata": {},
   "outputs": [],
   "source": [
    "data =(df[(df['Violation Year'] == 2013)]['Age at Violation'])"
   ]
  },
  {
   "cell_type": "code",
   "execution_count": 60,
   "metadata": {},
   "outputs": [
    {
     "data": {
      "text/plain": [
       "23.0    129439\n",
       "22.0    129125\n",
       "24.0    124766\n",
       "25.0    119933\n",
       "21.0    119595\n",
       "26.0    113617\n",
       "27.0    110817\n",
       "28.0    107182\n",
       "20.0    106899\n",
       "29.0    101598\n",
       "30.0     98970\n",
       "31.0     95222\n",
       "32.0     90633\n",
       "19.0     90557\n",
       "33.0     87019\n",
       "34.0     83508\n",
       "35.0     80998\n",
       "36.0     77735\n",
       "42.0     72886\n",
       "37.0     72752\n",
       "43.0     71156\n",
       "38.0     70951\n",
       "41.0     69115\n",
       "39.0     68465\n",
       "44.0     68128\n",
       "40.0     67684\n",
       "18.0     65542\n",
       "45.0     65422\n",
       "48.0     64945\n",
       "46.0     63900\n",
       "         ...  \n",
       "67.0     11679\n",
       "68.0      9945\n",
       "69.0      8954\n",
       "70.0      8590\n",
       "16.0      7571\n",
       "71.0      6721\n",
       "72.0      5846\n",
       "73.0      4807\n",
       "74.0      4035\n",
       "75.0      3545\n",
       "76.0      3004\n",
       "77.0      2462\n",
       "78.0      2246\n",
       "79.0      1809\n",
       "80.0      1587\n",
       "81.0      1365\n",
       "82.0      1118\n",
       "83.0       962\n",
       "84.0       763\n",
       "85.0       662\n",
       "86.0       526\n",
       "87.0       378\n",
       "88.0       312\n",
       "89.0       225\n",
       "90.0       168\n",
       "91.0       135\n",
       "92.0       109\n",
       "93.0        62\n",
       "94.0        52\n",
       "95.0        40\n",
       "Name: Age at Violation, Length: 80, dtype: int64"
      ]
     },
     "execution_count": 60,
     "metadata": {},
     "output_type": "execute_result"
    }
   ],
   "source": [
    "data.value_counts()\n"
   ]
  },
  {
   "cell_type": "code",
   "execution_count": 67,
   "metadata": {},
   "outputs": [
    {
     "name": "stdout",
     "output_type": "stream",
     "text": [
      "25 50 75 [ 3409.75 37317.5  71555.  ]\n",
      "mean 36.70323308511409\n",
      "median 34.0\n",
      "mode 0    23.0\n",
      "dtype: float64\n"
     ]
    }
   ],
   "source": [
    "print('25 50 75',np.percentile(data.value_counts(), [25,50,75]))\n",
    "print('mean', data.mean())\n",
    "print('median',data.median())\n",
    "print('mode', data.mode())"
   ]
  },
  {
   "cell_type": "code",
   "execution_count": 77,
   "metadata": {},
   "outputs": [
    {
     "data": {
      "text/plain": [
       "<matplotlib.axes._subplots.AxesSubplot at 0x1a12ae5278>"
      ]
     },
     "execution_count": 77,
     "metadata": {},
     "output_type": "execute_result"
    },
    {
     "data": {
      "image/png": "[encoded data removed]",
      "text/plain": [
       "<matplotlib.figure.Figure at 0x1a27ae5f98>"
      ]
     },
     "metadata": {},
     "output_type": "display_data"
    }
   ],
   "source": [
    "df[(df['Violation Year'] == 2013)]['Age at Violation'].hist(bins=18)"
   ]
  },
  {
   "cell_type": "code",
   "execution_count": 82,
   "metadata": {},
   "outputs": [
    {
     "data": {
      "image/png": "[encoded data removed]",
      "text/plain": [
       "<matplotlib.figure.Figure at 0x1a370868d0>"
      ]
     },
     "metadata": {},
     "output_type": "display_data"
    }
   ],
   "source": [
    "sns.boxplot(x='Violation Year', y='Age at Violation', data=df);"
   ]
  },
  {
   "cell_type": "code",
   "execution_count": 96,
   "metadata": {},
   "outputs": [
    {
     "name": "stdout",
     "output_type": "stream",
     "text": [
      "On branch master\n",
      "Your branch is up to date with 'origin/master'.\n",
      "\n",
      "Changes not staged for commit:\n",
      "  (use \"git add <file>...\" to update what will be committed)\n",
      "  (use \"git checkout -- <file>...\" to discard changes in working directory)\n",
      "\n",
      "\t\u001b[31mmodified:   .ipynb_checkpoints/M05_A--DJ--Project_Assignment_1-checkpoint.ipynb\u001b[m\n",
      "\t\u001b[31mmodified:   M05_A--DJ--Project_Assignment_1.ipynb\u001b[m\n",
      "\n",
      "no changes added to commit (use \"git add\" and/or \"git commit -a\")\n",
      "[master ecfc935] testing push to git with saving and checkpointing jupyter notebook\n",
      " 2 files changed, 124 insertions(+), 3 deletions(-)\n",
      "On branch master\n",
      "Your branch is ahead of 'origin/master' by 1 commit.\n",
      "  (use \"git push\" to publish your local commits)\n",
      "\n",
      "nothing to commit, working tree clean\n",
      "Counting objects: 4, done.\n",
      "Delta compression using up to 2 threads.\n",
      "Compressing objects: 100% (4/4), done.\n",
      "Writing objects: 100% (4/4), 7.30 KiB | 3.65 MiB/s, done.\n",
      "Total 4 (delta 3), reused 0 (delta 0)\n",
      "remote: Resolving deltas: 100% (3/3), completed with 3 local objects.\u001b[K\n",
      "To github.com:schwaaweb/aimlds1_05.git\n",
      "   868abd3..ecfc935  master -> master\n"
     ]
    }
   ],
   "source": [
    "!git status && git add . && git commit -am \"testing push to git with saving and checkpointing jupyter notebook\" && git status && git push"
   ]
  },
  {
   "cell_type": "code",
   "execution_count": 98,
   "metadata": {},
   "outputs": [
    {
     "name": "stdout",
     "output_type": "stream",
     "text": [
      "remote: Counting objects: 6, done.\u001b[K\n",
      "remote: Compressing objects: 100% (6/6), done.\u001b[K\n",
      "remote: Total 6 (delta 3), reused 0 (delta 0), pack-reused 0\u001b[K\n",
      "Unpacking objects: 100% (6/6), done.\n",
      "From github.com:schwaaweb/aimlds1_05\n",
      "   ecfc935..489f872  master     -> origin/master\n",
      "Updating ecfc935..489f872\n",
      "Fast-forward\n",
      " T05_CC--DJ--Statistics_Coding_Challenge_2.ipynb | 60 \u001b[32m+++++++++++++++++++++++++\u001b[m\n",
      " T05_CC--Statistics_Coding_Challenge_2.ipynb     | 60 \u001b[32m+++++++++++++++++++++++++\u001b[m\n",
      " 2 files changed, 120 insertions(+)\n",
      " create mode 100644 T05_CC--DJ--Statistics_Coding_Challenge_2.ipynb\n",
      " create mode 100644 T05_CC--Statistics_Coding_Challenge_2.ipynb\n"
     ]
    }
   ],
   "source": [
    "!git pull"
   ]
  },
  {
   "cell_type": "code",
   "execution_count": null,
   "metadata": {},
   "outputs": [],
   "source": []
  }
 ],
 "metadata": {
  "colab": {
   "name": "Project Assignment # 1.ipynb",
   "provenance": [],
   "version": "0.3.2"
  },
  "kernelspec": {
   "display_name": "Python 3",
   "language": "python",
   "name": "python3"
  },
  "language_info": {
   "codemirror_mode": {
    "name": "ipython",
    "version": 3
   },
   "file_extension": ".py",
   "mimetype": "text/x-python",
   "name": "python",
   "nbconvert_exporter": "python",
   "pygments_lexer": "ipython3",
   "version": "3.6.4"
  }
 },
 "nbformat": 4,
 "nbformat_minor": 1
}
