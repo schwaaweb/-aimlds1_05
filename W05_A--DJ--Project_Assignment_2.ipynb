{
  "nbformat": 4,
  "nbformat_minor": 0,
  "metadata": {
    "colab": {
      "name": "Project Assignment #2.ipynb",
      "version": "0.3.2",
      "provenance": []
    },
    "kernelspec": {
      "name": "python3",
      "display_name": "Python 3"
    }
  },
  "cells": [
    {
      "cell_type": "markdown",
      "metadata": {
        "id": "view-in-github",
        "colab_type": "text"
      },
      "source": [
        "[View in Colaboratory](https://colab.research.google.com/github/schwaaweb/aimlds1_05/blob/master/W05_A--DJ--Project_Assignment_2.ipynb)"
      ]
    },
    {
      "metadata": {
        "id": "Vim6ATB8ADUI",
        "colab_type": "text"
      },
      "cell_type": "markdown",
      "source": [
        "## Project Assignment #2\n",
        "\n",
        "In this project assignment, we will get exposed to 'Empirical Cumulative Distribution Frequency' (i.e. ECDF)\n",
        "\n",
        "One of the drawbacks of Bee Swarm plots is that if you have a lot of data, then the plot can get quite cluttered. Therefore when working with large data sets, it is better to leverage the ECDF plot since it provides a complete picture into the distribution of the data. \n",
        "\n",
        "**Ask #1**\n",
        "\n",
        "The first ask in this assignment is to plot the ECDF depicting the distibution for the city of NEW HAVEN. Utilize the same dataset that you utilized in Coding Challenge #1 (i.e. \"Accidental Drug Related Deaths 2012-2017 (State of Connecticut)\" data set available from the Data.Gov website)\n",
        "\n",
        "https://catalog.data.gov/dataset?groups=local&organization_type=State+Government#topic=local_navigation\n",
        "\n",
        "What insights can you glean regarding the distribution of data?\n",
        "\n",
        "**Key Takeaway:** When examining the distribution of data, a good rule of thumb is to plot the ECDF first\n",
        "\n",
        "**Ask #2**\n",
        "\n",
        "Compare the ECDF to percentiles. Recall that you computed the 25th, 50th and 75th percentiles using the Box Plot\n",
        "\n",
        "**Hint**: **1)** First plot the ECDF and then overlay the ECDF with markers (i.e. Diamonds) depciting the 25th, 50th and 75th percentiles, **2)** Ensure that the Y-axis of the ECDF plot remains between 0 and 1\n"
      ]
    },
    {
      "metadata": {
        "id": "4flPVpV-E6Yx",
        "colab_type": "text"
      },
      "cell_type": "markdown",
      "source": [
        "### Solution"
      ]
    },
    {
      "metadata": {
        "id": "KZyf9xb_ChOA",
        "colab_type": "text"
      },
      "cell_type": "markdown",
      "source": [
        "**Ask 1:** Plotting the ECDF"
      ]
    },
    {
      "metadata": {
        "id": "pubJXZLA4Rtt",
        "colab_type": "code",
        "colab": {
          "base_uri": "https://localhost:8080/",
          "height": 361
        },
        "outputId": "ecc19346-a1bc-49e0-ea33-162a24e59985"
      },
      "cell_type": "code",
      "source": [
        "import numpy as np\n",
        "import pandas as pd\n",
        "import matplotlib.pyplot as plt\n",
        "import seaborn as sns\n",
        "\n",
        "\n",
        "#Read the Accidental  file into a data frame\n",
        "df = pd.read_csv('https://www.dropbox.com/s/4mm6h97wip34600/Accidental_Drug_Related_Deaths__2012-2017.csv?raw=1')\n",
        "\n",
        "#Retrieving a subset of the data focused on the 3 cities of interest\n",
        "df_NH = df.loc[df['Death City'].isin(['NEW HAVEN'])]\n",
        "\n",
        "#Organizing the data for the x axis\n",
        "x_ax = np.sort(df_NH['Age'])\n",
        "\n",
        "#Defining the range for the y axis\n",
        "y_ax = np.arange(1, len(x_ax) + 1)/len(x_ax)\n",
        "\n",
        "#Generating a ECDF plot\n",
        "plt.plot(x_ax, y_ax, marker = '.', linestyle='none')\n",
        "plt.xlabel('Age')\n",
        "plt.ylabel('ECDF')\n",
        "\n",
        "#Set the margins for the plot\n",
        "plt.margins(0.02)\n",
        "\n",
        "plt.show()\n",
        "\n",
        "#Interpreting the ECDF: 20% of the individuals who experienced Accidental Drug Related Deaths were <= 30 years old\n",
        "#                       70% of the individuals who experienced Accidental Drug Related Deaths were <= 50 years old\n",
        "\n"
      ],
      "execution_count": 7,
      "outputs": [
        {
          "output_type": "display_data",
          "data": {
            "image/png": "[encoded data removed]",
            "text/plain": [
              "<matplotlib.figure.Figure at 0x7f3fe88ec5c0>"
            ]
          },
          "metadata": {
            "tags": []
          }
        }
      ]
    },
    {
      "metadata": {
        "id": "vTHUU-yzDX_Y",
        "colab_type": "text"
      },
      "cell_type": "markdown",
      "source": [
        "**Ask 2**: Compare the ECDF to percentiles. Recall that you computed the 25th, 50th and 75th percentiles using the Box Plot"
      ]
    },
    {
      "metadata": {
        "id": "_SVEQ_x9DtHX",
        "colab_type": "code",
        "colab": {
          "base_uri": "https://localhost:8080/",
          "height": 361
        },
        "outputId": "fa651485-6b94-4050-d10a-ef96a675ef15"
      },
      "cell_type": "code",
      "source": [
        "import numpy as np\n",
        "import pandas as pd\n",
        "import matplotlib.pyplot as plt\n",
        "import seaborn as sns\n",
        "\n",
        "\n",
        "#Read the Accidental  file into a data frame\n",
        "df = pd.read_csv('https://www.dropbox.com/s/4mm6h97wip34600/Accidental_Drug_Related_Deaths__2012-2017.csv?raw=1')\n",
        "\n",
        "#Retrieving a subset of the data focused on the 3 cities of interest\n",
        "df_NH = df.loc[df['Death City'].isin(['NEW HAVEN'])]\n",
        "\n",
        "#Organizing the data for the x axis\n",
        "x_ax = np.sort(df_NH['Age'])\n",
        "\n",
        "#Defining the range for the y axis\n",
        "y_ax = np.arange(1, len(x_ax) + 1)/len(x_ax)\n",
        "\n",
        "#Generating a ECDF plot\n",
        "plt.plot(x_ax, y_ax, marker = '.', linestyle='none')\n",
        "plt.xlabel('Age')\n",
        "plt.ylabel('ECDF')\n",
        "\n",
        "#Set the margins for the plot\n",
        "plt.margins(0.02)\n",
        "\n",
        "# Create an array of percentiles\n",
        "percentiles = np.array([25,50,75])\n",
        "\n",
        "# Calculate the percentiles\n",
        "ptiles = np.percentile(df_NH['Age'], percentiles)\n",
        "\n",
        "# Overlay the percentiles with red diamonds. Rescaling the percentiles array - dividing by 100.\n",
        "plt.plot(ptiles, percentiles/100, marker='D', color='red', linestyle='none')\n",
        "\n",
        "#Show the plot\n",
        "plt.show()"
      ],
      "execution_count": 9,
      "outputs": [
        {
          "output_type": "display_data",
          "data": {
            "image/png": "[encoded data removed]",
            "text/plain": [
              "<matplotlib.figure.Figure at 0x7f3fe8c2add8>"
            ]
          },
          "metadata": {
            "tags": []
          }
        }
      ]
    }
  ]
}